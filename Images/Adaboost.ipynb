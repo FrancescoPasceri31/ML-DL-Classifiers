{
 "cells": [
  {
   "cell_type": "code",
   "execution_count": 1,
   "metadata": {
    "tags": []
   },
   "outputs": [
    {
     "output_type": "stream",
     "name": "stdout",
     "text": "(5966, 5120) (5966,)\n"
    }
   ],
   "source": [
    "import pickle\n",
    "\n",
    "data = None\n",
    "labels = None\n",
    "\n",
    "with open('img_data','rb') as f:\n",
    "    data = pickle.load(f)\n",
    "with open('img_labels','rb') as f:\n",
    "    labels = pickle.load(f)\n",
    "    \n",
    "print(data.shape, labels.shape)"
   ]
  },
  {
   "cell_type": "code",
   "execution_count": 7,
   "metadata": {},
   "outputs": [
    {
     "name": "stdout",
     "output_type": "stream",
     "text": [
      "(5071, 5120) (5071,)\n",
      "(895, 5120) (895,)\n"
     ]
    }
   ],
   "source": [
    "from sklearn.model_selection import train_test_split\n",
    "from keras.utils import to_categorical\n",
    "\n",
    "x_train, x_test, y_train, y_test = train_test_split(data, labels, test_size=0.15)\n",
    "\n",
    "#y_train = to_categorical(y_train)\n",
    "#y_test = to_categorical(y_test)\n",
    "#y_valid = to_categorical(y_valid)\n",
    "\n",
    "print(x_train.shape, y_train.shape)\n",
    "print(x_test.shape, y_test.shape)"
   ]
  },
  {
   "cell_type": "markdown",
   "metadata": {},
   "source": [
    "Classifier\n",
    "==="
   ]
  },
  {
   "cell_type": "code",
   "execution_count": 8,
   "metadata": {},
   "outputs": [],
   "source": [
    "from sklearn.ensemble import AdaBoostClassifier\n",
    "from sklearn.model_selection import GridSearchCV\n",
    "from sklearn.metrics import confusion_matrix, classification_report\n",
    "import pandas as pd\n",
    "from IPython.display import display\n",
    "from sklearn.tree import DecisionTreeClassifier"
   ]
  },
  {
   "cell_type": "code",
   "execution_count": 9,
   "metadata": {},
   "outputs": [
    {
     "name": "stdout",
     "output_type": "stream",
     "text": [
      "Fitting 2 folds for each of 108 candidates, totalling 216 fits\n"
     ]
    },
    {
     "name": "stderr",
     "output_type": "stream",
     "text": [
      "[Parallel(n_jobs=-1)]: Using backend LokyBackend with 4 concurrent workers.\n",
      "[Parallel(n_jobs=-1)]: Done   5 tasks      | elapsed:  1.8min\n",
      "[Parallel(n_jobs=-1)]: Done  10 tasks      | elapsed:  4.9min\n",
      "[Parallel(n_jobs=-1)]: Done  17 tasks      | elapsed:  7.1min\n",
      "[Parallel(n_jobs=-1)]: Done  24 tasks      | elapsed: 10.6min\n",
      "[Parallel(n_jobs=-1)]: Done  33 tasks      | elapsed: 16.2min\n",
      "[Parallel(n_jobs=-1)]: Done  42 tasks      | elapsed: 20.2min\n",
      "[Parallel(n_jobs=-1)]: Done  53 tasks      | elapsed: 29.3min\n",
      "[Parallel(n_jobs=-1)]: Done  64 tasks      | elapsed: 38.5min\n",
      "[Parallel(n_jobs=-1)]: Done  77 tasks      | elapsed: 45.4min\n",
      "[Parallel(n_jobs=-1)]: Done  90 tasks      | elapsed: 46.3min\n",
      "[Parallel(n_jobs=-1)]: Done 105 tasks      | elapsed: 47.3min\n",
      "[Parallel(n_jobs=-1)]: Done 120 tasks      | elapsed: 48.1min\n",
      "[Parallel(n_jobs=-1)]: Done 137 tasks      | elapsed: 48.7min\n",
      "[Parallel(n_jobs=-1)]: Done 154 tasks      | elapsed: 49.3min\n",
      "[Parallel(n_jobs=-1)]: Done 173 tasks      | elapsed: 49.9min\n",
      "[Parallel(n_jobs=-1)]: Done 192 tasks      | elapsed: 50.6min\n",
      "[Parallel(n_jobs=-1)]: Done 216 out of 216 | elapsed: 51.4min finished\n"
     ]
    },
    {
     "name": "stdout",
     "output_type": "stream",
     "text": [
      "\n",
      "Best params:  AdaBoostClassifier(algorithm='SAMME.R',\n",
      "                   base_estimator=DecisionTreeClassifier(ccp_alpha=0.0,\n",
      "                                                         class_weight=None,\n",
      "                                                         criterion='gini',\n",
      "                                                         max_depth=10,\n",
      "                                                         max_features=None,\n",
      "                                                         max_leaf_nodes=None,\n",
      "                                                         min_impurity_decrease=0.0,\n",
      "                                                         min_impurity_split=None,\n",
      "                                                         min_samples_leaf=1,\n",
      "                                                         min_samples_split=2,\n",
      "                                                         min_weight_fraction_leaf=0.0,\n",
      "                                                         presort='deprecated',\n",
      "                                                         random_state=None,\n",
      "                                                         splitter='best'),\n",
      "                   learning_rate=1, n_estimators=60, random_state=None)\n",
      "\n"
     ]
    },
    {
     "data": {
      "text/html": [
       "<div>\n",
       "<style scoped>\n",
       "    .dataframe tbody tr th:only-of-type {\n",
       "        vertical-align: middle;\n",
       "    }\n",
       "\n",
       "    .dataframe tbody tr th {\n",
       "        vertical-align: top;\n",
       "    }\n",
       "\n",
       "    .dataframe thead th {\n",
       "        text-align: right;\n",
       "    }\n",
       "</style>\n",
       "<table border=\"1\" class=\"dataframe\">\n",
       "  <thead>\n",
       "    <tr style=\"text-align: right;\">\n",
       "      <th></th>\n",
       "      <th>0</th>\n",
       "      <th>1</th>\n",
       "      <th>2</th>\n",
       "      <th>3</th>\n",
       "    </tr>\n",
       "  </thead>\n",
       "  <tbody>\n",
       "    <tr>\n",
       "      <th>0</th>\n",
       "      <td>125</td>\n",
       "      <td>1</td>\n",
       "      <td>0</td>\n",
       "      <td>0</td>\n",
       "    </tr>\n",
       "    <tr>\n",
       "      <th>1</th>\n",
       "      <td>0</td>\n",
       "      <td>322</td>\n",
       "      <td>46</td>\n",
       "      <td>1</td>\n",
       "    </tr>\n",
       "    <tr>\n",
       "      <th>2</th>\n",
       "      <td>0</td>\n",
       "      <td>79</td>\n",
       "      <td>195</td>\n",
       "      <td>0</td>\n",
       "    </tr>\n",
       "    <tr>\n",
       "      <th>3</th>\n",
       "      <td>2</td>\n",
       "      <td>0</td>\n",
       "      <td>0</td>\n",
       "      <td>124</td>\n",
       "    </tr>\n",
       "  </tbody>\n",
       "</table>\n",
       "</div>"
      ],
      "text/plain": [
       "     0    1    2    3\n",
       "0  125    1    0    0\n",
       "1    0  322   46    1\n",
       "2    0   79  195    0\n",
       "3    2    0    0  124"
      ]
     },
     "metadata": {},
     "output_type": "display_data"
    },
    {
     "name": "stdout",
     "output_type": "stream",
     "text": [
      "              precision    recall  f1-score   support\n",
      "\n",
      "           0       0.98      0.99      0.99       126\n",
      "           1       0.80      0.87      0.84       369\n",
      "           2       0.81      0.71      0.76       274\n",
      "           3       0.99      0.98      0.99       126\n",
      "\n",
      "    accuracy                           0.86       895\n",
      "   macro avg       0.90      0.89      0.89       895\n",
      "weighted avg       0.86      0.86      0.85       895\n",
      "\n"
     ]
    }
   ],
   "source": [
    "params = {\n",
    "    'n_estimators':[5, 10, 20, 40, 50, 60],\n",
    "    'learning_rate':[0.001, 0.01, 1],\n",
    "    'base_estimator':[DecisionTreeClassifier(max_depth=5), DecisionTreeClassifier(max_depth=10), \n",
    "                      DecisionTreeClassifier(max_depth=20), DecisionTreeClassifier(max_depth=30),\n",
    "                     DecisionTreeClassifier(max_depth=50), DecisionTreeClassifier(max_depth=100)]\n",
    "}\n",
    "\n",
    "clf = GridSearchCV(AdaBoostClassifier(), param_grid=params, n_jobs=-1, cv=2, verbose=10)\n",
    "clf.fit(x_train, y_train)\n",
    "\n",
    "clf = clf.best_estimator_\n",
    "print()\n",
    "print('Best params: ',clf)\n",
    "\n",
    "y_pred = clf.predict(x_test)\n",
    "\n",
    "print()\n",
    "dt = pd.DataFrame(confusion_matrix(y_test, y_pred))\n",
    "display(dt)\n",
    "print(classification_report(y_test, y_pred, zero_division=0))"
   ]
  },
  {
   "cell_type": "code",
   "execution_count": 10,
   "metadata": {},
   "outputs": [],
   "source": [
    "import pickle\n",
    "\n",
    "with open('CLF_adaboost','wb') as f:\n",
    "    pickle.dump(clf,f)"
   ]
  }
 ],
 "metadata": {
  "kernelspec": {
   "display_name": "Python 3",
   "language": "python",
   "name": "python3"
  },
  "language_info": {
   "codemirror_mode": {
    "name": "ipython",
    "version": 3
   },
   "file_extension": ".py",
   "mimetype": "text/x-python",
   "name": "python",
   "nbconvert_exporter": "python",
   "pygments_lexer": "ipython3",
   "version": "3.6.9-final"
  }
 },
 "nbformat": 4,
 "nbformat_minor": 4
}