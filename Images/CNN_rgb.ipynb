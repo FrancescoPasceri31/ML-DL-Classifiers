{
 "cells": [
  {
   "cell_type": "code",
   "execution_count": 2,
   "metadata": {
    "colab": {
     "base_uri": "https://localhost:8080/",
     "height": 34
    },
    "colab_type": "code",
    "id": "CEe1JnjQXvmY",
    "outputId": "0b4a697f-3ae5-4087-e89d-3410dac076a6"
   },
   "outputs": [
    {
     "name": "stdout",
     "output_type": "stream",
     "text": [
      "(5966, 15360) (5966,)\n"
     ]
    }
   ],
   "source": [
    "import pickle\n",
    "\n",
    "data = None\n",
    "labels = None\n",
    "\n",
    "path = ''\n",
    "\n",
    "with open(path+'img_data_rgb','rb') as f:\n",
    "    data = pickle.load(f)\n",
    "with open(path+'img_labels_rgb','rb') as f:\n",
    "    labels = pickle.load(f)\n",
    "    \n",
    "print(data.shape, labels.shape)"
   ]
  },
  {
   "cell_type": "code",
   "execution_count": 3,
   "metadata": {
    "colab": {
     "base_uri": "https://localhost:8080/",
     "height": 86
    },
    "colab_type": "code",
    "id": "zJJ5lzixYVH3",
    "outputId": "425eb239-3864-4696-98b9-67f4e049f31d"
   },
   "outputs": [
    {
     "name": "stderr",
     "output_type": "stream",
     "text": [
      "Using TensorFlow backend.\n"
     ]
    },
    {
     "name": "stdout",
     "output_type": "stream",
     "text": [
      "(4563, 80, 64, 3) (4563, 4)\n",
      "(508, 80, 64, 3) (508, 4)\n",
      "(895, 80, 64, 3) (895, 4)\n"
     ]
    }
   ],
   "source": [
    "from sklearn.model_selection import train_test_split\n",
    "from keras.utils import to_categorical\n",
    "\n",
    "h = 80\n",
    "w = 64\n",
    "ch = 3\n",
    "data = data.reshape((data.shape[0], h, w, ch))\n",
    "\n",
    "x_train, x_test, y_train, y_test = train_test_split(data, labels, test_size=0.15)\n",
    "x_train, x_valid, y_train, y_valid = train_test_split(x_train, y_train, test_size=0.1)\n",
    "\n",
    "y_train = to_categorical(y_train)\n",
    "y_test = to_categorical(y_test)\n",
    "y_valid = to_categorical(y_valid)\n",
    "\n",
    "print(x_train.shape, y_train.shape)\n",
    "print(x_valid.shape, y_valid.shape)\n",
    "print(x_test.shape, y_test.shape)"
   ]
  },
  {
   "cell_type": "code",
   "execution_count": 4,
   "metadata": {
    "colab": {},
    "colab_type": "code",
    "id": "NRv86WBUYai-"
   },
   "outputs": [],
   "source": [
    "import keras \n",
    "from keras import Sequential\n",
    "from keras.layers import Dense, Flatten, Conv2D, MaxPooling2D, MaxPool2D, Dropout\n",
    "from keras.layers import BatchNormalization, Activation\n",
    "\n",
    "NUM_EPOCHS=50"
   ]
  },
  {
   "cell_type": "code",
   "execution_count": null,
   "metadata": {
    "colab": {
     "base_uri": "https://localhost:8080/",
     "height": 502
    },
    "colab_type": "code",
    "id": "kvL7xfpRYdRw",
    "outputId": "837fa128-89f1-476f-f1a8-f0133020d301"
   },
   "outputs": [
    {
     "name": "stdout",
     "output_type": "stream",
     "text": [
      "Model: \"sequential_1\"\n",
      "_________________________________________________________________\n",
      "Layer (type)                 Output Shape              Param #   \n",
      "=================================================================\n",
      "conv2d_1 (Conv2D)            (None, 80, 64, 8)         224       \n",
      "_________________________________________________________________\n",
      "max_pooling2d_1 (MaxPooling2 (None, 40, 32, 8)         0         \n",
      "_________________________________________________________________\n",
      "conv2d_2 (Conv2D)            (None, 40, 32, 16)        1168      \n",
      "_________________________________________________________________\n",
      "max_pooling2d_2 (MaxPooling2 (None, 20, 16, 16)        0         \n",
      "_________________________________________________________________\n",
      "conv2d_3 (Conv2D)            (None, 20, 16, 32)        4640      \n",
      "_________________________________________________________________\n",
      "max_pooling2d_3 (MaxPooling2 (None, 10, 8, 32)         0         \n",
      "_________________________________________________________________\n",
      "flatten_1 (Flatten)          (None, 2560)              0         \n",
      "_________________________________________________________________\n",
      "dense_1 (Dense)              (None, 96)                245856    \n",
      "_________________________________________________________________\n",
      "dense_2 (Dense)              (None, 24)                2328      \n",
      "_________________________________________________________________\n",
      "dense_3 (Dense)              (None, 4)                 100       \n",
      "=================================================================\n",
      "Total params: 254,316\n",
      "Trainable params: 254,316\n",
      "Non-trainable params: 0\n",
      "_________________________________________________________________\n"
     ]
    }
   ],
   "source": [
    "shape = x_train[0].shape\n",
    "layer = [4, 8, 16, 32, 64, 88, 216]\n",
    "pos = 1\n",
    "\n",
    "model = Sequential()\n",
    "model.add(Conv2D(layer[pos], (3, 3), padding='same', activation='relu', input_shape=shape ))\n",
    "#model.add(Conv2D(layer[pos], (3, 3), padding='same', activation='relu', input_shape=shape ))\n",
    "model.add(MaxPooling2D(pool_size=(2, 2), strides=(2,2)))\n",
    "\n",
    "pos += 1\n",
    "\n",
    "model.add(Conv2D(layer[pos], (3, 3), padding='same', activation='relu'))\n",
    "#model.add(Conv2D(layer[pos], (3, 3), padding='same', activation='relu'))\n",
    "model.add(MaxPooling2D(pool_size=(2, 2)))\n",
    "\n",
    "pos += 1\n",
    "\n",
    "model.add(Conv2D(layer[pos], (3, 3), padding='same', activation='relu'))\n",
    "#model.add(Conv2D(layer[pos], (3, 3), padding='same', activation='relu'))\n",
    "model.add(MaxPooling2D(pool_size=(2, 2)))\n",
    "\n",
    "pos += 1\n",
    "\n",
    "model.add(Flatten())\n",
    "model.add(Dense(96, activation='relu'))\n",
    "model.add(Dense(24, activation='relu'))\n",
    "model.add(Dense(4, activation='softmax'))\n",
    " \n",
    "adam = keras.optimizers.Adam(learning_rate=0.0001)\n",
    "model.compile(loss='categorical_crossentropy', optimizer=adam, metrics=['accuracy'])\n",
    "\n",
    "model.summary()"
   ]
  },
  {
   "cell_type": "code",
   "execution_count": null,
   "metadata": {
    "colab": {
     "base_uri": "https://localhost:8080/",
     "height": 1000
    },
    "colab_type": "code",
    "id": "HAqi8bvzYgJ4",
    "outputId": "306a4beb-eee1-4dc7-eda0-97d8598648ad"
   },
   "outputs": [
    {
     "name": "stdout",
     "output_type": "stream",
     "text": [
      "Train on 4563 samples, validate on 508 samples\n",
      "Epoch 1/50\n",
      "4563/4563 [==============================] - 8s 2ms/step - loss: 1.0573 - accuracy: 0.5240 - val_loss: 0.7795 - val_accuracy: 0.6240\n",
      "Epoch 2/50\n",
      "4563/4563 [==============================] - 1s 181us/step - loss: 0.5937 - accuracy: 0.7629 - val_loss: 0.4733 - val_accuracy: 0.8248\n",
      "Epoch 3/50\n",
      "4563/4563 [==============================] - 1s 185us/step - loss: 0.4358 - accuracy: 0.8286 - val_loss: 0.3696 - val_accuracy: 0.8484\n",
      "Epoch 4/50\n",
      "4563/4563 [==============================] - 1s 192us/step - loss: 0.3841 - accuracy: 0.8442 - val_loss: 0.3293 - val_accuracy: 0.8799\n",
      "Epoch 5/50\n",
      "4563/4563 [==============================] - 1s 182us/step - loss: 0.3672 - accuracy: 0.8374 - val_loss: 0.3125 - val_accuracy: 0.8839\n",
      "Epoch 6/50\n",
      "4563/4563 [==============================] - 1s 189us/step - loss: 0.3569 - accuracy: 0.8444 - val_loss: 0.3616 - val_accuracy: 0.8287\n",
      "Epoch 7/50\n",
      "4563/4563 [==============================] - 1s 183us/step - loss: 0.3518 - accuracy: 0.8446 - val_loss: 0.2912 - val_accuracy: 0.8780\n",
      "Epoch 8/50\n",
      "4563/4563 [==============================] - 1s 183us/step - loss: 0.3373 - accuracy: 0.8523 - val_loss: 0.2738 - val_accuracy: 0.8937\n",
      "Epoch 9/50\n",
      "4563/4563 [==============================] - 1s 184us/step - loss: 0.3276 - accuracy: 0.8558 - val_loss: 0.2684 - val_accuracy: 0.8976\n",
      "Epoch 10/50\n",
      "4563/4563 [==============================] - 1s 181us/step - loss: 0.3226 - accuracy: 0.8611 - val_loss: 0.2688 - val_accuracy: 0.9016\n",
      "Epoch 11/50\n",
      "4563/4563 [==============================] - 1s 184us/step - loss: 0.3217 - accuracy: 0.8586 - val_loss: 0.2634 - val_accuracy: 0.9016\n",
      "Epoch 12/50\n",
      "4563/4563 [==============================] - 1s 187us/step - loss: 0.3163 - accuracy: 0.8593 - val_loss: 0.2588 - val_accuracy: 0.8957\n",
      "Epoch 13/50\n",
      "4563/4563 [==============================] - 1s 190us/step - loss: 0.3084 - accuracy: 0.8646 - val_loss: 0.2510 - val_accuracy: 0.8976\n",
      "Epoch 14/50\n",
      "4563/4563 [==============================] - 1s 201us/step - loss: 0.3018 - accuracy: 0.8694 - val_loss: 0.2594 - val_accuracy: 0.8898\n",
      "Epoch 15/50\n",
      "4563/4563 [==============================] - 1s 194us/step - loss: 0.2986 - accuracy: 0.8696 - val_loss: 0.3344 - val_accuracy: 0.8543\n",
      "Epoch 16/50\n",
      "4563/4563 [==============================] - 1s 190us/step - loss: 0.2926 - accuracy: 0.8740 - val_loss: 0.2503 - val_accuracy: 0.8898\n",
      "Epoch 17/50\n",
      "4563/4563 [==============================] - 1s 192us/step - loss: 0.2883 - accuracy: 0.8762 - val_loss: 0.2441 - val_accuracy: 0.9016\n",
      "Epoch 18/50\n",
      "4563/4563 [==============================] - 1s 195us/step - loss: 0.2842 - accuracy: 0.8753 - val_loss: 0.2382 - val_accuracy: 0.9016\n",
      "Epoch 19/50\n",
      "4563/4563 [==============================] - 1s 196us/step - loss: 0.2807 - accuracy: 0.8768 - val_loss: 0.2357 - val_accuracy: 0.9035\n",
      "Epoch 20/50\n",
      "4563/4563 [==============================] - 1s 186us/step - loss: 0.2802 - accuracy: 0.8779 - val_loss: 0.2327 - val_accuracy: 0.9134\n",
      "Epoch 21/50\n",
      "4563/4563 [==============================] - 1s 190us/step - loss: 0.2681 - accuracy: 0.8869 - val_loss: 0.2270 - val_accuracy: 0.9094\n",
      "Epoch 22/50\n",
      "4563/4563 [==============================] - 1s 184us/step - loss: 0.2665 - accuracy: 0.8823 - val_loss: 0.2279 - val_accuracy: 0.9016\n",
      "Epoch 23/50\n",
      "4563/4563 [==============================] - 1s 185us/step - loss: 0.2578 - accuracy: 0.8909 - val_loss: 0.2240 - val_accuracy: 0.9055\n",
      "Epoch 24/50\n",
      "4563/4563 [==============================] - 1s 180us/step - loss: 0.2555 - accuracy: 0.8952 - val_loss: 0.2172 - val_accuracy: 0.9154\n",
      "Epoch 25/50\n",
      "4563/4563 [==============================] - 1s 188us/step - loss: 0.2538 - accuracy: 0.8906 - val_loss: 0.2144 - val_accuracy: 0.9213\n",
      "Epoch 26/50\n",
      "4563/4563 [==============================] - 1s 187us/step - loss: 0.2491 - accuracy: 0.8937 - val_loss: 0.2094 - val_accuracy: 0.9213\n",
      "Epoch 27/50\n",
      "4563/4563 [==============================] - 1s 181us/step - loss: 0.2443 - accuracy: 0.8937 - val_loss: 0.2175 - val_accuracy: 0.9035\n",
      "Epoch 28/50\n",
      "4563/4563 [==============================] - 1s 184us/step - loss: 0.2461 - accuracy: 0.8994 - val_loss: 0.2359 - val_accuracy: 0.9016\n",
      "Epoch 29/50\n",
      "4563/4563 [==============================] - 1s 187us/step - loss: 0.2460 - accuracy: 0.8950 - val_loss: 0.2114 - val_accuracy: 0.9173\n",
      "Epoch 30/50\n",
      "4563/4563 [==============================] - 1s 180us/step - loss: 0.2411 - accuracy: 0.8974 - val_loss: 0.2114 - val_accuracy: 0.9173\n",
      "Epoch 31/50\n",
      "4563/4563 [==============================] - 1s 180us/step - loss: 0.2336 - accuracy: 0.9038 - val_loss: 0.2168 - val_accuracy: 0.9193\n",
      "Epoch 32/50\n",
      "4563/4563 [==============================] - 1s 180us/step - loss: 0.2367 - accuracy: 0.8992 - val_loss: 0.2094 - val_accuracy: 0.9232\n",
      "Epoch 33/50\n",
      "4563/4563 [==============================] - 1s 181us/step - loss: 0.2289 - accuracy: 0.9042 - val_loss: 0.2041 - val_accuracy: 0.9232\n",
      "Epoch 34/50\n",
      "4563/4563 [==============================] - 1s 183us/step - loss: 0.2315 - accuracy: 0.9042 - val_loss: 0.2542 - val_accuracy: 0.8819\n",
      "Epoch 35/50\n",
      "4563/4563 [==============================] - 1s 183us/step - loss: 0.2247 - accuracy: 0.9097 - val_loss: 0.2257 - val_accuracy: 0.9075\n",
      "Epoch 36/50\n",
      "4563/4563 [==============================] - 1s 185us/step - loss: 0.2248 - accuracy: 0.9082 - val_loss: 0.2135 - val_accuracy: 0.9173\n",
      "Epoch 37/50\n",
      "4563/4563 [==============================] - 1s 180us/step - loss: 0.2161 - accuracy: 0.9082 - val_loss: 0.2067 - val_accuracy: 0.9154\n",
      "Epoch 38/50\n",
      "4563/4563 [==============================] - 1s 184us/step - loss: 0.2124 - accuracy: 0.9161 - val_loss: 0.2292 - val_accuracy: 0.8917\n",
      "Epoch 39/50\n",
      "4563/4563 [==============================] - 1s 181us/step - loss: 0.2216 - accuracy: 0.9095 - val_loss: 0.2006 - val_accuracy: 0.9213\n",
      "Epoch 40/50\n",
      "4563/4563 [==============================] - 1s 184us/step - loss: 0.2069 - accuracy: 0.9187 - val_loss: 0.2009 - val_accuracy: 0.9213\n",
      "Epoch 41/50\n",
      "4563/4563 [==============================] - 1s 179us/step - loss: 0.2097 - accuracy: 0.9183 - val_loss: 0.1974 - val_accuracy: 0.9232\n",
      "Epoch 42/50\n",
      "4563/4563 [==============================] - 1s 180us/step - loss: 0.2031 - accuracy: 0.9174 - val_loss: 0.1994 - val_accuracy: 0.9213\n",
      "Epoch 43/50\n",
      "4563/4563 [==============================] - 1s 184us/step - loss: 0.2052 - accuracy: 0.9189 - val_loss: 0.2103 - val_accuracy: 0.9134\n",
      "Epoch 44/50\n",
      "4563/4563 [==============================] - 1s 183us/step - loss: 0.2025 - accuracy: 0.9165 - val_loss: 0.1957 - val_accuracy: 0.9252\n",
      "Epoch 45/50\n",
      "4563/4563 [==============================] - 1s 184us/step - loss: 0.1926 - accuracy: 0.9242 - val_loss: 0.1996 - val_accuracy: 0.9252\n",
      "Epoch 46/50\n",
      "4563/4563 [==============================] - 1s 181us/step - loss: 0.1982 - accuracy: 0.9196 - val_loss: 0.1992 - val_accuracy: 0.9232\n",
      "Epoch 47/50\n",
      "4563/4563 [==============================] - 1s 185us/step - loss: 0.1901 - accuracy: 0.9261 - val_loss: 0.1972 - val_accuracy: 0.9213\n",
      "Epoch 48/50\n",
      "4563/4563 [==============================] - 1s 182us/step - loss: 0.1890 - accuracy: 0.9259 - val_loss: 0.1989 - val_accuracy: 0.9213\n",
      "Epoch 49/50\n",
      "4563/4563 [==============================] - 1s 179us/step - loss: 0.1834 - accuracy: 0.9288 - val_loss: 0.1912 - val_accuracy: 0.9232\n",
      "Epoch 50/50\n",
      "4563/4563 [==============================] - 1s 187us/step - loss: 0.1822 - accuracy: 0.9275 - val_loss: 0.2194 - val_accuracy: 0.8996\n"
     ]
    },
    {
     "data": {
      "image/png": "[encoded data removed]",
      "text/plain": [
       "<Figure size 864x360 with 2 Axes>"
      ]
     },
     "metadata": {
      "needs_background": "light",
      "tags": []
     },
     "output_type": "display_data"
    }
   ],
   "source": [
    "history = model.fit(x_train, y_train, epochs=NUM_EPOCHS, validation_data=(x_valid, y_valid))\n",
    "\n",
    "import matplotlib.pyplot as plt\n",
    "\n",
    "acc = history.history['accuracy']\n",
    "val_acc = history.history['val_accuracy']\n",
    "loss = history.history['loss']\n",
    "val_loss = history.history['val_loss']\n",
    "x = range(1, len(acc) + 1)\n",
    "\n",
    "plt.figure(figsize=(12, 5))\n",
    "plt.subplot(1, 2, 1)\n",
    "plt.plot(x, acc, 'b', label='Training acc')\n",
    "plt.plot(x, val_acc, 'r', label='Validation acc')\n",
    "plt.title('Training and validation accuracy')\n",
    "plt.legend()\n",
    "plt.subplot(1, 2, 2)\n",
    "plt.plot(x, loss, 'b', label='Training loss')\n",
    "plt.plot(x, val_loss, 'r', label='Validation loss')\n",
    "plt.title('Training and validation loss' )\n",
    "plt.legend()\n",
    "plt.show()"
   ]
  },
  {
   "cell_type": "code",
   "execution_count": 5,
   "metadata": {
    "colab": {
     "base_uri": "https://localhost:8080/",
     "height": 190
    },
    "colab_type": "code",
    "id": "jB4UitNtZZ2B",
    "outputId": "4b47d4e7-8976-49be-fbd5-f074fee68208"
   },
   "outputs": [
    {
     "name": "stdout",
     "output_type": "stream",
     "text": [
      "0.8607283532619476\n",
      "0.8567913472652435\n",
      "0.8661417365074158\n",
      "0.8646653592586517\n",
      "0.8612204790115356\n",
      "0.8651574850082397\n",
      "0.8494094610214233\n",
      "0.8562992215156555\n",
      "0.8444882035255432\n",
      "0.8725393712520599\n"
     ]
    }
   ],
   "source": [
    "import numpy as np\n",
    "import matplotlib.pyplot as plt\n",
    "\n",
    "x_train = np.concatenate((x_train,x_valid),axis=0)\n",
    "y_train = np.concatenate((y_train,y_valid),axis=0)\n",
    "\n",
    "scores=[]\n",
    "for i in range(0,10):\n",
    "    shape = x_train[0].shape\n",
    "    layer = [4, 8, 16, 32, 64, 88, 216]\n",
    "    pos = 1\n",
    "\n",
    "    model = Sequential()\n",
    "    model.add(Conv2D(layer[pos], (3, 3), padding='same', activation='relu', input_shape=shape, kernel_regularizer=keras.regularizers.l2(0.001) ))\n",
    "    #model.add(Conv2D(layer[pos], (3, 3), padding='same', activation='relu', input_shape=shape ))\n",
    "    model.add(MaxPooling2D(pool_size=(2, 2), strides=(2,2)))\n",
    "\n",
    "    pos += 1\n",
    "\n",
    "    model.add(Conv2D(layer[pos], (3, 3), padding='same', activation='relu', kernel_regularizer=keras.regularizers.l2(0.001)))\n",
    "    #model.add(Conv2D(layer[pos], (3, 3), padding='same', activation='relu'))\n",
    "    model.add(MaxPooling2D(pool_size=(2, 2)))\n",
    "\n",
    "    pos += 1\n",
    "\n",
    "    model.add(Conv2D(layer[pos], (3, 3), padding='same', activation='relu', kernel_regularizer=keras.regularizers.l2(0.001)))\n",
    "    #model.add(Conv2D(layer[pos], (3, 3), padding='same', activation='relu'))\n",
    "    model.add(MaxPooling2D(pool_size=(2, 2)))\n",
    "\n",
    "    pos += 1\n",
    "\n",
    "    model.add(Flatten())\n",
    "    model.add(Dropout(0.2))\n",
    "    model.add(Dense(96, activation='relu'))\n",
    "    model.add(Dense(24, activation='relu'))\n",
    "    model.add(Dense(4, activation='softmax'))\n",
    "\n",
    "    adam = keras.optimizers.Adam(learning_rate=0.0001)\n",
    "    model.compile(loss='categorical_crossentropy', optimizer=adam, metrics=['accuracy'])\n",
    "\n",
    "    #x_train, x_valid, y_train, y_valid = train_test_split(x_train, y_train, test_size=0.1)\n",
    "    history = model.fit(x_train, y_train, epochs=20, validation_split=0.1, verbose=0, use_multiprocessing=True)\n",
    "\n",
    "    val_acc = history.history['val_accuracy']\n",
    "    score = np.mean(val_acc[-4:])\n",
    "    print(score)\n",
    "    scores.append(score)\n"
   ]
  },
  {
   "cell_type": "code",
   "execution_count": null,
   "metadata": {
    "colab": {
     "base_uri": "https://localhost:8080/",
     "height": 1000
    },
    "colab_type": "code",
    "id": "3_gMljHqZlsz",
    "outputId": "9b3dd815-01a8-4d44-8d39-12a2e8140bb3"
   },
   "outputs": [
    {
     "name": "stdout",
     "output_type": "stream",
     "text": [
      "Train on 4563 samples, validate on 508 samples\n",
      "Epoch 1/50\n",
      "4563/4563 [==============================] - 1s 269us/step - loss: 1.0570 - accuracy: 0.5244 - val_loss: 0.6921 - val_accuracy: 0.7441\n",
      "Epoch 2/50\n",
      "4563/4563 [==============================] - 1s 194us/step - loss: 0.5669 - accuracy: 0.7699 - val_loss: 0.4657 - val_accuracy: 0.8169\n",
      "Epoch 3/50\n",
      "4563/4563 [==============================] - 1s 198us/step - loss: 0.4834 - accuracy: 0.7968 - val_loss: 0.4108 - val_accuracy: 0.8406\n",
      "Epoch 4/50\n",
      "4563/4563 [==============================] - 1s 196us/step - loss: 0.4399 - accuracy: 0.8205 - val_loss: 0.3780 - val_accuracy: 0.8465\n",
      "Epoch 5/50\n",
      "4563/4563 [==============================] - 1s 188us/step - loss: 0.4129 - accuracy: 0.8273 - val_loss: 0.4590 - val_accuracy: 0.7972\n",
      "Epoch 6/50\n",
      "4563/4563 [==============================] - 1s 194us/step - loss: 0.4007 - accuracy: 0.8356 - val_loss: 0.3379 - val_accuracy: 0.8780\n",
      "Epoch 7/50\n",
      "4563/4563 [==============================] - 1s 196us/step - loss: 0.3865 - accuracy: 0.8411 - val_loss: 0.3222 - val_accuracy: 0.8898\n",
      "Epoch 8/50\n",
      "4563/4563 [==============================] - 1s 188us/step - loss: 0.3767 - accuracy: 0.8483 - val_loss: 0.3105 - val_accuracy: 0.8858\n",
      "Epoch 9/50\n",
      "4563/4563 [==============================] - 1s 191us/step - loss: 0.3671 - accuracy: 0.8505 - val_loss: 0.3031 - val_accuracy: 0.8937\n",
      "Epoch 10/50\n",
      "4563/4563 [==============================] - 1s 193us/step - loss: 0.3627 - accuracy: 0.8567 - val_loss: 0.3077 - val_accuracy: 0.8780\n",
      "Epoch 11/50\n",
      "4563/4563 [==============================] - 1s 195us/step - loss: 0.3504 - accuracy: 0.8586 - val_loss: 0.2853 - val_accuracy: 0.8917\n",
      "Epoch 12/50\n",
      "4563/4563 [==============================] - 1s 193us/step - loss: 0.3429 - accuracy: 0.8661 - val_loss: 0.2876 - val_accuracy: 0.8976\n",
      "Epoch 13/50\n",
      "4563/4563 [==============================] - 1s 192us/step - loss: 0.3421 - accuracy: 0.8650 - val_loss: 0.2902 - val_accuracy: 0.9016\n",
      "Epoch 14/50\n",
      "4563/4563 [==============================] - 1s 196us/step - loss: 0.3355 - accuracy: 0.8694 - val_loss: 0.2770 - val_accuracy: 0.9016\n",
      "Epoch 15/50\n",
      "4563/4563 [==============================] - 1s 192us/step - loss: 0.3323 - accuracy: 0.8755 - val_loss: 0.2987 - val_accuracy: 0.8740\n",
      "Epoch 16/50\n",
      "4563/4563 [==============================] - 1s 191us/step - loss: 0.3309 - accuracy: 0.8692 - val_loss: 0.2765 - val_accuracy: 0.9055\n",
      "Epoch 17/50\n",
      "4563/4563 [==============================] - 1s 192us/step - loss: 0.3229 - accuracy: 0.8757 - val_loss: 0.2657 - val_accuracy: 0.9134\n",
      "Epoch 18/50\n",
      "4563/4563 [==============================] - 1s 193us/step - loss: 0.3234 - accuracy: 0.8744 - val_loss: 0.2673 - val_accuracy: 0.9094\n",
      "Epoch 19/50\n",
      "4563/4563 [==============================] - 1s 198us/step - loss: 0.3132 - accuracy: 0.8817 - val_loss: 0.2611 - val_accuracy: 0.9134\n",
      "Epoch 20/50\n",
      "4563/4563 [==============================] - 1s 187us/step - loss: 0.3124 - accuracy: 0.8803 - val_loss: 0.2617 - val_accuracy: 0.9094\n",
      "Epoch 21/50\n",
      "4563/4563 [==============================] - 1s 192us/step - loss: 0.3086 - accuracy: 0.8817 - val_loss: 0.2769 - val_accuracy: 0.9016\n",
      "Epoch 22/50\n",
      "4563/4563 [==============================] - 1s 191us/step - loss: 0.3058 - accuracy: 0.8825 - val_loss: 0.2648 - val_accuracy: 0.9075\n",
      "Epoch 23/50\n",
      "4563/4563 [==============================] - 1s 193us/step - loss: 0.3010 - accuracy: 0.8849 - val_loss: 0.2628 - val_accuracy: 0.9134\n",
      "Epoch 24/50\n",
      "4563/4563 [==============================] - 1s 189us/step - loss: 0.3017 - accuracy: 0.8854 - val_loss: 0.2851 - val_accuracy: 0.8858\n",
      "Epoch 25/50\n",
      "4563/4563 [==============================] - 1s 191us/step - loss: 0.2960 - accuracy: 0.8895 - val_loss: 0.2643 - val_accuracy: 0.9035\n",
      "Epoch 26/50\n",
      "4563/4563 [==============================] - 1s 194us/step - loss: 0.3005 - accuracy: 0.8823 - val_loss: 0.2885 - val_accuracy: 0.8819\n",
      "Epoch 27/50\n",
      "4563/4563 [==============================] - 1s 188us/step - loss: 0.3002 - accuracy: 0.8904 - val_loss: 0.2579 - val_accuracy: 0.9154\n",
      "Epoch 28/50\n",
      "4563/4563 [==============================] - 1s 196us/step - loss: 0.2859 - accuracy: 0.8931 - val_loss: 0.2586 - val_accuracy: 0.9016\n",
      "Epoch 29/50\n",
      "4563/4563 [==============================] - 1s 192us/step - loss: 0.2867 - accuracy: 0.8972 - val_loss: 0.2587 - val_accuracy: 0.9075\n",
      "Epoch 30/50\n",
      "4563/4563 [==============================] - 1s 195us/step - loss: 0.2799 - accuracy: 0.8979 - val_loss: 0.2521 - val_accuracy: 0.9075\n",
      "Epoch 31/50\n",
      "4563/4563 [==============================] - 1s 190us/step - loss: 0.2819 - accuracy: 0.8926 - val_loss: 0.2750 - val_accuracy: 0.9035\n",
      "Epoch 32/50\n",
      "4563/4563 [==============================] - 1s 189us/step - loss: 0.2774 - accuracy: 0.8985 - val_loss: 0.2503 - val_accuracy: 0.9173\n",
      "Epoch 33/50\n",
      "4563/4563 [==============================] - 1s 192us/step - loss: 0.2760 - accuracy: 0.8983 - val_loss: 0.2473 - val_accuracy: 0.9154\n",
      "Epoch 34/50\n",
      "4563/4563 [==============================] - 1s 193us/step - loss: 0.2703 - accuracy: 0.9038 - val_loss: 0.2492 - val_accuracy: 0.9154\n",
      "Epoch 35/50\n",
      "4563/4563 [==============================] - 1s 189us/step - loss: 0.2686 - accuracy: 0.9038 - val_loss: 0.2434 - val_accuracy: 0.9035\n",
      "Epoch 36/50\n",
      "4563/4563 [==============================] - 1s 191us/step - loss: 0.2673 - accuracy: 0.9027 - val_loss: 0.2479 - val_accuracy: 0.9173\n",
      "Epoch 37/50\n",
      "4563/4563 [==============================] - 1s 197us/step - loss: 0.2626 - accuracy: 0.9051 - val_loss: 0.2589 - val_accuracy: 0.9075\n",
      "Epoch 38/50\n",
      "4563/4563 [==============================] - 1s 191us/step - loss: 0.2599 - accuracy: 0.9086 - val_loss: 0.2529 - val_accuracy: 0.9075\n",
      "Epoch 39/50\n",
      "4563/4563 [==============================] - 1s 197us/step - loss: 0.2565 - accuracy: 0.9047 - val_loss: 0.2392 - val_accuracy: 0.9134\n",
      "Epoch 40/50\n",
      "4563/4563 [==============================] - 1s 192us/step - loss: 0.2601 - accuracy: 0.9049 - val_loss: 0.2466 - val_accuracy: 0.9173\n",
      "Epoch 41/50\n",
      "4563/4563 [==============================] - 1s 192us/step - loss: 0.2558 - accuracy: 0.9084 - val_loss: 0.2643 - val_accuracy: 0.8976\n",
      "Epoch 42/50\n",
      "4563/4563 [==============================] - 1s 188us/step - loss: 0.2534 - accuracy: 0.9115 - val_loss: 0.2322 - val_accuracy: 0.9134\n",
      "Epoch 43/50\n",
      "4563/4563 [==============================] - 1s 190us/step - loss: 0.2538 - accuracy: 0.9108 - val_loss: 0.2367 - val_accuracy: 0.9114\n",
      "Epoch 44/50\n",
      "4563/4563 [==============================] - 1s 191us/step - loss: 0.2508 - accuracy: 0.9104 - val_loss: 0.2354 - val_accuracy: 0.9173\n",
      "Epoch 45/50\n",
      "4563/4563 [==============================] - 1s 191us/step - loss: 0.2474 - accuracy: 0.9137 - val_loss: 0.2387 - val_accuracy: 0.9193\n",
      "Epoch 46/50\n",
      "4563/4563 [==============================] - 1s 192us/step - loss: 0.2420 - accuracy: 0.9130 - val_loss: 0.2777 - val_accuracy: 0.8996\n",
      "Epoch 47/50\n",
      "4563/4563 [==============================] - 1s 191us/step - loss: 0.2436 - accuracy: 0.9134 - val_loss: 0.2401 - val_accuracy: 0.9134\n",
      "Epoch 48/50\n",
      "4563/4563 [==============================] - 1s 192us/step - loss: 0.2406 - accuracy: 0.9172 - val_loss: 0.2395 - val_accuracy: 0.9094\n",
      "Epoch 49/50\n",
      "4563/4563 [==============================] - 1s 192us/step - loss: 0.2366 - accuracy: 0.9126 - val_loss: 0.2398 - val_accuracy: 0.9094\n",
      "Epoch 50/50\n",
      "4563/4563 [==============================] - 1s 195us/step - loss: 0.2325 - accuracy: 0.9187 - val_loss: 0.2490 - val_accuracy: 0.9055\n"
     ]
    },
    {
     "data": {
      "image/png": "[encoded data removed]",
      "text/plain": [
       "<Figure size 864x360 with 2 Axes>"
      ]
     },
     "metadata": {
      "needs_background": "light",
      "tags": []
     },
     "output_type": "display_data"
    }
   ],
   "source": [
    "x_train, x_valid, y_train, y_valid = train_test_split(x_train, y_train, test_size=0.1)\n",
    "history = model.fit(x_train, y_train, epochs=NUM_EPOCHS, validation_data=(x_valid, y_valid))\n",
    "\n",
    "import matplotlib.pyplot as plt\n",
    "\n",
    "acc = history.history['accuracy']\n",
    "val_acc = history.history['val_accuracy']\n",
    "loss = history.history['loss']\n",
    "val_loss = history.history['val_loss']\n",
    "x = range(1, len(acc) + 1)\n",
    "\n",
    "plt.figure(figsize=(12, 5))\n",
    "plt.subplot(1, 2, 1)\n",
    "plt.plot(x, acc, 'b', label='Training acc')\n",
    "plt.plot(x, val_acc, 'r', label='Validation acc')\n",
    "plt.title('Training and validation accuracy')\n",
    "plt.legend()\n",
    "plt.subplot(1, 2, 2)\n",
    "plt.plot(x, loss, 'b', label='Training loss')\n",
    "plt.plot(x, val_loss, 'r', label='Validation loss')\n",
    "plt.title('Training and validation loss' )\n",
    "plt.legend()\n",
    "plt.show()"
   ]
  },
  {
   "cell_type": "code",
   "execution_count": null,
   "metadata": {
    "colab": {
     "base_uri": "https://localhost:8080/",
     "height": 380
    },
    "colab_type": "code",
    "id": "1QPeUd9BaY08",
    "outputId": "01e972f8-45bc-4000-ea9b-bd160999b645"
   },
   "outputs": [
    {
     "name": "stdout",
     "output_type": "stream",
     "text": [
      "\n"
     ]
    },
    {
     "data": {
      "text/html": [
       "<div>\n",
       "<style scoped>\n",
       "    .dataframe tbody tr th:only-of-type {\n",
       "        vertical-align: middle;\n",
       "    }\n",
       "\n",
       "    .dataframe tbody tr th {\n",
       "        vertical-align: top;\n",
       "    }\n",
       "\n",
       "    .dataframe thead th {\n",
       "        text-align: right;\n",
       "    }\n",
       "</style>\n",
       "<table border=\"1\" class=\"dataframe\">\n",
       "  <thead>\n",
       "    <tr style=\"text-align: right;\">\n",
       "      <th></th>\n",
       "      <th>0</th>\n",
       "      <th>1</th>\n",
       "      <th>2</th>\n",
       "      <th>3</th>\n",
       "    </tr>\n",
       "  </thead>\n",
       "  <tbody>\n",
       "    <tr>\n",
       "      <th>0</th>\n",
       "      <td>107</td>\n",
       "      <td>0</td>\n",
       "      <td>0</td>\n",
       "      <td>0</td>\n",
       "    </tr>\n",
       "    <tr>\n",
       "      <th>1</th>\n",
       "      <td>1</td>\n",
       "      <td>345</td>\n",
       "      <td>48</td>\n",
       "      <td>1</td>\n",
       "    </tr>\n",
       "    <tr>\n",
       "      <th>2</th>\n",
       "      <td>0</td>\n",
       "      <td>34</td>\n",
       "      <td>244</td>\n",
       "      <td>1</td>\n",
       "    </tr>\n",
       "    <tr>\n",
       "      <th>3</th>\n",
       "      <td>1</td>\n",
       "      <td>1</td>\n",
       "      <td>0</td>\n",
       "      <td>112</td>\n",
       "    </tr>\n",
       "  </tbody>\n",
       "</table>\n",
       "</div>"
      ],
      "text/plain": [
       "     0    1    2    3\n",
       "0  107    0    0    0\n",
       "1    1  345   48    1\n",
       "2    0   34  244    1\n",
       "3    1    1    0  112"
      ]
     },
     "metadata": {
      "tags": []
     },
     "output_type": "display_data"
    },
    {
     "name": "stdout",
     "output_type": "stream",
     "text": [
      "              precision    recall  f1-score   support\n",
      "\n",
      "           0       0.98      1.00      0.99       107\n",
      "           1       0.91      0.87      0.89       395\n",
      "           2       0.84      0.87      0.85       279\n",
      "           3       0.98      0.98      0.98       114\n",
      "\n",
      "    accuracy                           0.90       895\n",
      "   macro avg       0.93      0.93      0.93       895\n",
      "weighted avg       0.90      0.90      0.90       895\n",
      "\n"
     ]
    }
   ],
   "source": [
    "import numpy as np\n",
    "import pandas as pd\n",
    "from sklearn.metrics import confusion_matrix, classification_report\n",
    " \n",
    "y_pred = model.predict(x_test)\n",
    "\n",
    "y_test_cp = np.argmax( y_test, axis=1)\n",
    "y_pred_cp = np.argmax( y_pred, axis=1)\n",
    "print()\n",
    "dt = pd.DataFrame(confusion_matrix(y_test_cp, y_pred_cp))\n",
    "display(dt)\n",
    "print(classification_report(y_test_cp, y_pred_cp, zero_division=0))"
   ]
  },
  {
   "cell_type": "code",
   "execution_count": null,
   "metadata": {
    "colab": {},
    "colab_type": "code",
    "id": "kqewub645NOR"
   },
   "outputs": [],
   "source": [
    "import pickle\n",
    "\n",
    "with open('CLF_CNN_rgb','wb') as f:\n",
    "    pickle.dump(model, f)"
   ]
  },
  {
   "cell_type": "code",
   "execution_count": 7,
   "metadata": {
    "colab": {
     "base_uri": "https://localhost:8080/",
     "height": 265
    },
    "colab_type": "code",
    "id": "VeHcW9vHPLzK",
    "outputId": "af42643f-b84d-4e31-f628-1e109766aad8"
   },
   "outputs": [
    {
     "data": {
      "image/png": "[encoded data removed]",
      "text/plain": [
       "<Figure size 432x288 with 1 Axes>"
      ]
     },
     "metadata": {
      "needs_background": "light",
      "tags": []
     },
     "output_type": "display_data"
    }
   ],
   "source": [
    "plt.figure()\n",
    "plt.plot(scores)\n",
    "plt.show()"
   ]
  },
  {
   "cell_type": "code",
   "execution_count": null,
   "metadata": {
    "colab": {
     "base_uri": "https://localhost:8080/",
     "height": 54
    },
    "colab_type": "code",
    "id": "tVCayk8NsclQ",
    "outputId": "74b4bbcc-23bb-4d97-fa07-ff078f4ae8e7"
   },
   "outputs": [],
   "source": [
    "with open('CNN_rgb_score','wb') as f:\n",
    "  pickle.dump(scores,f)"
   ]
  }
 ],
 "metadata": {
  "accelerator": "GPU",
  "colab": {
   "collapsed_sections": [],
   "name": "CNN_rgb.ipynb",
   "provenance": []
  },
  "kernelspec": {
   "display_name": "Python 3",
   "language": "python",
   "name": "python3"
  },
  "language_info": {
   "codemirror_mode": {
    "name": "ipython",
    "version": 3
   },
   "file_extension": ".py",
   "mimetype": "text/x-python",
   "name": "python",
   "nbconvert_exporter": "python",
   "pygments_lexer": "ipython3",
   "version": "3.6.9"
  }
 },
 "nbformat": 4,
 "nbformat_minor": 4
}
