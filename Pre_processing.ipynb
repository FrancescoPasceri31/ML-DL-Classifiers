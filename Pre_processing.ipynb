{
 "cells": [
  {
   "cell_type": "markdown",
   "metadata": {
    "colab_type": "text",
    "id": "0Px-oyDeX3eB"
   },
   "source": [
    "Pre-processing data for Classification\n",
    "==="
   ]
  },
  {
   "cell_type": "code",
   "execution_count": 1,
   "metadata": {
    "colab": {},
    "colab_type": "code",
    "id": "V8SsCLhXKh1m"
   },
   "outputs": [],
   "source": [
    "from zipfile import ZipFile\n",
    "\n",
    "with ZipFile('immagini-4.zip', 'r') as myzip:\n",
    "  myzip.extractall('')"
   ]
  },
  {
   "cell_type": "code",
   "execution_count": 8,
   "metadata": {
    "colab": {},
    "colab_type": "code",
    "id": "rm21AME_PbT3"
   },
   "outputs": [
    {
     "name": "stdout",
     "output_type": "stream",
     "text": [
      "done\n"
     ]
    }
   ],
   "source": [
    "from PIL import Image\n",
    "import glob\n",
    "import matplotlib.pyplot as plt\n",
    "from keras.preprocessing.image import img_to_array\n",
    "\n",
    "data = []\n",
    "labels = []\n",
    "d = { 'belts':0, 'casual':1, 'sports':2, 'wallets':3 }\n",
    "\n",
    "data_norm = []\n",
    "data_anom = []\n",
    "data_anom_ws = [] # without shoes\n",
    "\n",
    "for image in glob.glob(\"immagini-4/*.jpg\"):\n",
    "    img = Image.open(image).convert('L')\n",
    "    img = img.resize((64, 80))\n",
    "    img = img_to_array(img)\n",
    "    img = img / 255.0\n",
    "    data.append(img.flatten())\n",
    "    for i in d:\n",
    "        if i in image:\n",
    "            labels.append(d[i])\n",
    "            if d[i] == 1:\n",
    "                data_norm.append(img.flatten())\n",
    "            else:\n",
    "                data_anom.append(img.flatten())\n",
    "                if d[i] != 2:\n",
    "                    data_anom_ws.append(img.flatten())\n",
    "            break\n",
    "    \n",
    "print('done')"
   ]
  },
  {
   "cell_type": "code",
   "execution_count": 9,
   "metadata": {
    "colab": {
     "base_uri": "https://localhost:8080/",
     "height": 33
    },
    "colab_type": "code",
    "executionInfo": {
     "elapsed": 496,
     "status": "ok",
     "timestamp": 1588774701513,
     "user": {
      "displayName": "Francesco Pasceri",
      "photoUrl": "https://lh3.googleusercontent.com/a-/AOh14Gg4GKv-9cjGH2YlV3XmPBxjFWIX4MItl8JRika_WQE=s64",
      "userId": "17848331632849336329"
     },
     "user_tz": -120
    },
    "id": "1qe3grHLWSy-",
    "outputId": "e95a47c5-16bf-4fd4-f86a-a3751c868ffc"
   },
   "outputs": [
    {
     "name": "stdout",
     "output_type": "stream",
     "text": [
      "(5966, 5120) (5966,)\n",
      "(2561, 5120)\n",
      "(3405, 5120)\n",
      "(1573, 5120)\n"
     ]
    }
   ],
   "source": [
    "import numpy as np\n",
    "\n",
    "data_img = np.array(data)\n",
    "labels_img = np.array(labels)\n",
    "\n",
    "data_norm = np.array(data_norm)\n",
    "data_anom = np.array(data_anom)\n",
    "data_anom_ws = np.array(data_anom_ws)\n",
    "\n",
    "print(data_img.shape, labels_img.shape)\n",
    "print(data_norm.shape)\n",
    "print(data_anom.shape)\n",
    "print(data_anom_ws.shape)"
   ]
  },
  {
   "cell_type": "code",
   "execution_count": 3,
   "metadata": {
    "colab": {},
    "colab_type": "code",
    "id": "1Xlsq5rcWh7t"
   },
   "outputs": [
    {
     "name": "stdout",
     "output_type": "stream",
     "text": [
      "done\n"
     ]
    }
   ],
   "source": [
    "import pickle\n",
    "\n",
    "with open('Image/img_data','wb') as f:\n",
    "  pickle.dump(data_img,f)\n",
    "with open('Image/img_labels', 'wb') as f:\n",
    "  pickle.dump(labels_img,f)\n",
    "\n",
    "with open('Image/data_normal', 'wb') as f:\n",
    "    pickle.dump(data_norm, f)\n",
    "with open('Image/data_anomalies', 'wb') as f:\n",
    "    pickle.dump(data_anom, f)\n",
    "with open('Image/data_anomalies_without_shoes', 'wb') as f:\n",
    "    pickle.dump(data_anom_ws, f)\n",
    "\n",
    "print('done')"
   ]
  },
  {
   "cell_type": "markdown",
   "metadata": {
    "colab_type": "text",
    "id": "UUOiQF0IX_1e"
   },
   "source": [
    "Pre-processing Text\n",
    "===="
   ]
  },
  {
   "cell_type": "code",
   "execution_count": 16,
   "metadata": {
    "colab": {},
    "colab_type": "code",
    "id": "T8gKAZ5eYFzV"
   },
   "outputs": [],
   "source": [
    "from zipfile import ZipFile\n",
    "\n",
    "with ZipFile('testi-2.zip', 'r') as myzip:\n",
    "  myzip.extractall('')"
   ]
  },
  {
   "cell_type": "code",
   "execution_count": 17,
   "metadata": {
    "colab": {
     "base_uri": "https://localhost:8080/",
     "height": 458
    },
    "colab_type": "code",
    "executionInfo": {
     "elapsed": 714253,
     "status": "error",
     "timestamp": 1588776729036,
     "user": {
      "displayName": "Francesco Pasceri",
      "photoUrl": "https://lh3.googleusercontent.com/a-/AOh14Gg4GKv-9cjGH2YlV3XmPBxjFWIX4MItl8JRika_WQE=s64",
      "userId": "17848331632849336329"
     },
     "user_tz": -120
    },
    "id": "x14fufUFYNfy",
    "outputId": "0cceba89-1c26-4652-ffaf-05ef0e96bcfa"
   },
   "outputs": [],
   "source": [
    "import glob\n",
    "from nltk import word_tokenize\n",
    "from nltk.corpus import stopwords\n",
    "from nltk.stem import WordNetLemmatizer\n",
    "import re\n",
    "import nltk\n",
    "#nltk.download('punkt')\n",
    "#nltk.download('stopwords')\n",
    "#nltk.download('wordnet')\n",
    "\n",
    "data = []\n",
    "labels = []\n",
    "\n",
    "d = {\n",
    "    'farmer':0, 'kaminski':1, 'beck':2, 'lokay':3, 'kitchen':4, 'williams':5,\n",
    "     'SA_and_HP':6, 'GP':7, 'BG':8\n",
    "}\n",
    "\n",
    "for text in glob.glob('testi-2/*/*.txt'):\n",
    "    with open(text, 'r', errors='ignore') as f:\n",
    "        #wnl = WordNetLemmatizer()\n",
    "        contents = f.read().lower()\n",
    "        wnl = WordNetLemmatizer()\n",
    "        contents = re.sub(r'\\d+', '', contents)\n",
    "        contents = re.sub(r'[^\\w\\s]', '', contents)\n",
    "        contents = nltk.word_tokenize(contents)\n",
    "        contents_filtered = []\n",
    "        contents_filtered = [wnl.lemmatize(word) for word in contents if word not in stopwords.words('english')]\n",
    "        \n",
    "        # 'farmer','kaminski', 'beck', 'lokay', 'kitchen', 'williams', 'SA_and_HP', 'GP', 'BG'\n",
    "        \n",
    "        data.append(\" \".join(contents_filtered))\n",
    "        for i in d:\n",
    "            if i in text:\n",
    "                labels.append(d[i])\n",
    "                break\n",
    "                \n",
    "print('done')"
   ]
  },
  {
   "cell_type": "code",
   "execution_count": 20,
   "metadata": {},
   "outputs": [
    {
     "name": "stdout",
     "output_type": "stream",
     "text": [
      "31702 31702\n"
     ]
    }
   ],
   "source": [
    "print(len(data), len(labels))"
   ]
  },
  {
   "cell_type": "code",
   "execution_count": 21,
   "metadata": {},
   "outputs": [
    {
     "name": "stdout",
     "output_type": "stream",
     "text": [
      "done\n"
     ]
    }
   ],
   "source": [
    "import pickle\n",
    "\n",
    "with open('Text/txt_data','wb') as f:\n",
    "  pickle.dump(data,f)\n",
    "with open('Text/txt_labels', 'wb') as f:\n",
    "  pickle.dump(labels,f)\n",
    "print('done')"
   ]
  }
 ],
 "metadata": {
  "colab": {
   "authorship_tag": "ABX9TyPdTJg/HFForL1SG7UXiHrp",
   "collapsed_sections": [],
   "mount_file_id": "1OYC6EcNakpzRR8N0mXolbRZweBDHRsnd",
   "name": "Pre_processing.ipynb",
   "provenance": []
  },
  "kernelspec": {
   "display_name": "Python 3",
   "language": "python",
   "name": "python3"
  },
  "language_info": {
   "codemirror_mode": {
    "name": "ipython",
    "version": 3
   },
   "file_extension": ".py",
   "mimetype": "text/x-python",
   "name": "python",
   "nbconvert_exporter": "python",
   "pygments_lexer": "ipython3",
   "version": "3.6.9"
  }
 },
 "nbformat": 4,
 "nbformat_minor": 4
}