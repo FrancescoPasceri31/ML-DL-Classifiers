{
 "cells": [
  {
   "cell_type": "code",
   "execution_count": 4,
   "metadata": {},
   "outputs": [
    {
     "name": "stdout",
     "output_type": "stream",
     "text": [
      "31702 31702\n"
     ]
    }
   ],
   "source": [
    "import numpy as np\n",
    "import pickle\n",
    "\n",
    "with open(\"txt_data\", \"rb\") as fp:   #Pickling\n",
    "    data = pickle.load(fp)\n",
    "with open(\"txt_labels\", \"rb\") as fp:   #Pickling\n",
    "    labels = pickle.load(fp)\n",
    "\n",
    "print(len(data), len(labels))"
   ]
  },
  {
   "cell_type": "code",
   "execution_count": 5,
   "metadata": {},
   "outputs": [
    {
     "name": "stdout",
     "output_type": "stream",
     "text": [
      "split done.\n"
     ]
    }
   ],
   "source": [
    "from sklearn.model_selection import train_test_split \n",
    "\n",
    "x_train, x_test, y_train, y_test = train_test_split(data,labels, test_size = 0.30, shuffle=True, random_state = 42)\n",
    "x_train, x_valid, y_train, y_valid = train_test_split(x_train, y_train, test_size=0.10, shuffle=True, random_state = 33)\n",
    "\n",
    "print('split done.')"
   ]
  },
  {
   "cell_type": "code",
   "execution_count": 6,
   "metadata": {},
   "outputs": [
    {
     "name": "stdout",
     "output_type": "stream",
     "text": [
      "> tfidVectorization done.\n"
     ]
    }
   ],
   "source": [
    "from sklearn.feature_extraction.text import TfidfVectorizer\n",
    "\n",
    "vectorizer = TfidfVectorizer(max_features=500, use_idf=True, stop_words='english')\n",
    "vectorizer.fit(data)\n",
    "x_train = vectorizer.transform(x_train).toarray()\n",
    "x_test = vectorizer.transform(x_test).toarray()\n",
    "x_valid = vectorizer.transform(x_valid).toarray()\n",
    "print('> tfidVectorization done.')"
   ]
  },
  {
   "cell_type": "code",
   "execution_count": 7,
   "metadata": {},
   "outputs": [
    {
     "name": "stdout",
     "output_type": "stream",
     "text": [
      "Fitting 2 folds for each of 6 candidates, totalling 12 fits\n"
     ]
    },
    {
     "name": "stderr",
     "output_type": "stream",
     "text": [
      "[Parallel(n_jobs=-1)]: Using backend LokyBackend with 4 concurrent workers.\n",
      "[Parallel(n_jobs=-1)]: Done  12 out of  12 | elapsed: 13.7min finished\n"
     ]
    },
    {
     "name": "stdout",
     "output_type": "stream",
     "text": [
      "\n",
      "Best params:  SVC(C=1, break_ties=False, cache_size=200, class_weight=None, coef0=0.0,\n",
      "    decision_function_shape='ovr', degree=3, gamma='scale', kernel='linear',\n",
      "    max_iter=-1, probability=False, random_state=None, shrinking=True,\n",
      "    tol=0.001, verbose=False)\n",
      "\n"
     ]
    },
    {
     "data": {
      "text/html": [
       "<div>\n",
       "<style scoped>\n",
       "    .dataframe tbody tr th:only-of-type {\n",
       "        vertical-align: middle;\n",
       "    }\n",
       "\n",
       "    .dataframe tbody tr th {\n",
       "        vertical-align: top;\n",
       "    }\n",
       "\n",
       "    .dataframe thead th {\n",
       "        text-align: right;\n",
       "    }\n",
       "</style>\n",
       "<table border=\"1\" class=\"dataframe\">\n",
       "  <thead>\n",
       "    <tr style=\"text-align: right;\">\n",
       "      <th></th>\n",
       "      <th>0</th>\n",
       "      <th>1</th>\n",
       "      <th>2</th>\n",
       "      <th>3</th>\n",
       "      <th>4</th>\n",
       "      <th>5</th>\n",
       "      <th>6</th>\n",
       "      <th>7</th>\n",
       "      <th>8</th>\n",
       "    </tr>\n",
       "  </thead>\n",
       "  <tbody>\n",
       "    <tr>\n",
       "      <th>0</th>\n",
       "      <td>851</td>\n",
       "      <td>15</td>\n",
       "      <td>31</td>\n",
       "      <td>30</td>\n",
       "      <td>51</td>\n",
       "      <td>11</td>\n",
       "      <td>15</td>\n",
       "      <td>40</td>\n",
       "      <td>16</td>\n",
       "    </tr>\n",
       "    <tr>\n",
       "      <th>1</th>\n",
       "      <td>36</td>\n",
       "      <td>1033</td>\n",
       "      <td>32</td>\n",
       "      <td>25</td>\n",
       "      <td>57</td>\n",
       "      <td>4</td>\n",
       "      <td>19</td>\n",
       "      <td>21</td>\n",
       "      <td>8</td>\n",
       "    </tr>\n",
       "    <tr>\n",
       "      <th>2</th>\n",
       "      <td>36</td>\n",
       "      <td>37</td>\n",
       "      <td>252</td>\n",
       "      <td>16</td>\n",
       "      <td>69</td>\n",
       "      <td>2</td>\n",
       "      <td>2</td>\n",
       "      <td>10</td>\n",
       "      <td>6</td>\n",
       "    </tr>\n",
       "    <tr>\n",
       "      <th>3</th>\n",
       "      <td>44</td>\n",
       "      <td>29</td>\n",
       "      <td>15</td>\n",
       "      <td>218</td>\n",
       "      <td>62</td>\n",
       "      <td>4</td>\n",
       "      <td>6</td>\n",
       "      <td>21</td>\n",
       "      <td>9</td>\n",
       "    </tr>\n",
       "    <tr>\n",
       "      <th>4</th>\n",
       "      <td>36</td>\n",
       "      <td>43</td>\n",
       "      <td>47</td>\n",
       "      <td>39</td>\n",
       "      <td>928</td>\n",
       "      <td>10</td>\n",
       "      <td>8</td>\n",
       "      <td>31</td>\n",
       "      <td>11</td>\n",
       "    </tr>\n",
       "    <tr>\n",
       "      <th>5</th>\n",
       "      <td>22</td>\n",
       "      <td>25</td>\n",
       "      <td>9</td>\n",
       "      <td>11</td>\n",
       "      <td>43</td>\n",
       "      <td>326</td>\n",
       "      <td>3</td>\n",
       "      <td>8</td>\n",
       "      <td>6</td>\n",
       "    </tr>\n",
       "    <tr>\n",
       "      <th>6</th>\n",
       "      <td>3</td>\n",
       "      <td>3</td>\n",
       "      <td>0</td>\n",
       "      <td>2</td>\n",
       "      <td>4</td>\n",
       "      <td>1</td>\n",
       "      <td>977</td>\n",
       "      <td>184</td>\n",
       "      <td>227</td>\n",
       "    </tr>\n",
       "    <tr>\n",
       "      <th>7</th>\n",
       "      <td>8</td>\n",
       "      <td>6</td>\n",
       "      <td>1</td>\n",
       "      <td>2</td>\n",
       "      <td>14</td>\n",
       "      <td>0</td>\n",
       "      <td>236</td>\n",
       "      <td>958</td>\n",
       "      <td>502</td>\n",
       "    </tr>\n",
       "    <tr>\n",
       "      <th>8</th>\n",
       "      <td>2</td>\n",
       "      <td>3</td>\n",
       "      <td>1</td>\n",
       "      <td>2</td>\n",
       "      <td>8</td>\n",
       "      <td>0</td>\n",
       "      <td>206</td>\n",
       "      <td>501</td>\n",
       "      <td>921</td>\n",
       "    </tr>\n",
       "  </tbody>\n",
       "</table>\n",
       "</div>"
      ],
      "text/plain": [
       "     0     1    2    3    4    5    6    7    8\n",
       "0  851    15   31   30   51   11   15   40   16\n",
       "1   36  1033   32   25   57    4   19   21    8\n",
       "2   36    37  252   16   69    2    2   10    6\n",
       "3   44    29   15  218   62    4    6   21    9\n",
       "4   36    43   47   39  928   10    8   31   11\n",
       "5   22    25    9   11   43  326    3    8    6\n",
       "6    3     3    0    2    4    1  977  184  227\n",
       "7    8     6    1    2   14    0  236  958  502\n",
       "8    2     3    1    2    8    0  206  501  921"
      ]
     },
     "metadata": {},
     "output_type": "display_data"
    },
    {
     "name": "stdout",
     "output_type": "stream",
     "text": [
      "              precision    recall  f1-score   support\n",
      "\n",
      "           0       0.82      0.80      0.81      1060\n",
      "           1       0.87      0.84      0.85      1235\n",
      "           2       0.65      0.59      0.62       430\n",
      "           3       0.63      0.53      0.58       408\n",
      "           4       0.75      0.80      0.78      1153\n",
      "           5       0.91      0.72      0.80       453\n",
      "           6       0.66      0.70      0.68      1401\n",
      "           7       0.54      0.55      0.55      1727\n",
      "           8       0.54      0.56      0.55      1644\n",
      "\n",
      "    accuracy                           0.68      9511\n",
      "   macro avg       0.71      0.68      0.69      9511\n",
      "weighted avg       0.68      0.68      0.68      9511\n",
      "\n"
     ]
    }
   ],
   "source": [
    "from sklearn.svm import SVC\n",
    "from sklearn.model_selection import GridSearchCV\n",
    "from sklearn.metrics import confusion_matrix, classification_report\n",
    "import pandas as pd\n",
    "\n",
    "params = {\n",
    "    'kernel':['linear'],\n",
    "    'C':[0.001, 0.01, 0.1, 1, 10, 100]\n",
    "}\n",
    "clf = GridSearchCV(SVC(), param_grid=params, cv=2, n_jobs=-1, verbose=1)\n",
    "clf.fit(x_train, y_train)\n",
    "\n",
    "clf = clf.best_estimator_\n",
    "print()\n",
    "print('Best params: ',clf)\n",
    "\n",
    "y_pred = clf.predict(x_test)\n",
    "\n",
    "print()\n",
    "dt = pd.DataFrame(confusion_matrix(y_test, y_pred))\n",
    "display(dt)\n",
    "print(classification_report(y_test, y_pred, zero_division=0))"
   ]
  },
  {
   "cell_type": "code",
   "execution_count": 8,
   "metadata": {},
   "outputs": [],
   "source": [
    "import pickle\n",
    "\n",
    "with open('CLF_svm_linear','wb') as f:\n",
    "    pickle.dump(clf, f)"
   ]
  }
 ],
 "metadata": {
  "kernelspec": {
   "display_name": "Python 3",
   "language": "python",
   "name": "python3"
  },
  "language_info": {
   "codemirror_mode": {
    "name": "ipython",
    "version": 3
   },
   "file_extension": ".py",
   "mimetype": "text/x-python",
   "name": "python",
   "nbconvert_exporter": "python",
   "pygments_lexer": "ipython3",
   "version": "3.6.9"
  }
 },
 "nbformat": 4,
 "nbformat_minor": 4
}
