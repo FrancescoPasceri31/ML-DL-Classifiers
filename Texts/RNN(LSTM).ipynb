{
 "cells": [
  {
   "cell_type": "code",
   "execution_count": 15,
   "metadata": {
    "colab": {
     "base_uri": "https://localhost:8080/",
     "height": 34
    },
    "colab_type": "code",
    "id": "mdwJaPEzBV4A",
    "outputId": "f90b6ebd-a3ad-4de4-b097-7e4051cfef26"
   },
   "outputs": [
    {
     "name": "stdout",
     "output_type": "stream",
     "text": [
      "31702 31702\n"
     ]
    }
   ],
   "source": [
    "import numpy as np\n",
    "import pickle\n",
    "from tensorflow.keras.utils import to_categorical\n",
    "\n",
    "path = ''\n",
    "\n",
    "with open(path+\"txt_data\", \"rb\") as fp:\n",
    "    data = pickle.load(fp)\n",
    "with open(path+\"txt_labels\", \"rb\") as fp:   \n",
    "    labels = pickle.load(fp)\n",
    "\n",
    "labels = to_categorical(labels)\n",
    "\n",
    "print(len(data), len(labels))"
   ]
  },
  {
   "cell_type": "code",
   "execution_count": 16,
   "metadata": {
    "colab": {
     "base_uri": "https://localhost:8080/",
     "height": 34
    },
    "colab_type": "code",
    "id": "2WaqZViXB2TV",
    "outputId": "edad8d14-f466-487a-a275-08c71ccc24a0"
   },
   "outputs": [
    {
     "name": "stdout",
     "output_type": "stream",
     "text": [
      "split done.\n"
     ]
    }
   ],
   "source": [
    "from sklearn.model_selection import train_test_split \n",
    "\n",
    "x_train, x_test, y_train, y_test = train_test_split(data,labels, test_size = 0.30, shuffle=True, random_state = 42)\n",
    "x_train, x_valid, y_train, y_valid = train_test_split(x_train, y_train, test_size=0.10, shuffle=True, random_state = 33)\n",
    "\n",
    "print('split done.')"
   ]
  },
  {
   "cell_type": "code",
   "execution_count": 17,
   "metadata": {
    "colab": {
     "base_uri": "https://localhost:8080/",
     "height": 52
    },
    "colab_type": "code",
    "id": "J2NHFS9JB4Sx",
    "outputId": "2972c505-d359-42c0-ceab-3086b7349c18"
   },
   "outputs": [
    {
     "name": "stdout",
     "output_type": "stream",
     "text": [
      "Found 132837 unique tokens.\n",
      "Shape of data tensor: (19971, 500) (19971, 9)\n"
     ]
    }
   ],
   "source": [
    "from sklearn.feature_extraction.text import TfidfVectorizer\n",
    "\n",
    "#vectorizer = TfidfVectorizer(max_features=500, use_idf=True, stop_words='english')\n",
    "#vectorizer.fit(data)\n",
    "#x_train = vectorizer.transform(x_train).toarray()\n",
    "#x_test = vectorizer.transform(x_test).toarray()\n",
    "#x_valid = vectorizer.transform(x_valid).toarray()\n",
    "#print('> tfidVectorization done.')\n",
    "\n",
    "import tensorflow as tf\n",
    "from tensorflow.keras.preprocessing.text import Tokenizer\n",
    "from tensorflow.keras.preprocessing.sequence import pad_sequences\n",
    "\n",
    "# The maximum number of words to be used. (most frequent)\n",
    "MAX_NB_WORDS = 50000\n",
    "# Max number of words in each complaint.\n",
    "MAX_SEQUENCE_LENGTH = 500\n",
    "# This is fixed.\n",
    "EMBEDDING_DIM = 100\n",
    "tokenizer = Tokenizer(num_words=MAX_NB_WORDS, filters='!\"#$%&()*+,-./:;<=>?@[\\]^_`{|}~', lower=True)\n",
    "tokenizer.fit_on_texts(data)\n",
    "word_index = tokenizer.word_index\n",
    "print('Found %s unique tokens.' % len(word_index))\n",
    "\n",
    "x_train = tokenizer.texts_to_sequences(x_train)\n",
    "x_train = pad_sequences(x_train, maxlen=MAX_SEQUENCE_LENGTH)\n",
    "\n",
    "x_test = tokenizer.texts_to_sequences(x_test)\n",
    "x_test = pad_sequences(x_test, maxlen=MAX_SEQUENCE_LENGTH)\n",
    "\n",
    "x_valid = tokenizer.texts_to_sequences(x_valid)\n",
    "x_valid = pad_sequences(x_valid, maxlen=MAX_SEQUENCE_LENGTH)\n",
    "\n",
    "print('Shape of data tensor:', x_train.shape, y_train.shape)"
   ]
  },
  {
   "cell_type": "code",
   "execution_count": 5,
   "metadata": {
    "colab": {
     "base_uri": "https://localhost:8080/",
     "height": 69
    },
    "colab_type": "code",
    "id": "MyvzztnfEJwS",
    "outputId": "ef58ca0a-2e42-4e0d-87b5-6ec7442dcb88"
   },
   "outputs": [
    {
     "name": "stdout",
     "output_type": "stream",
     "text": [
      "training set (19971, 500)\n",
      "testing set (9511, 500)\n",
      "validation set (2220, 500)\n"
     ]
    }
   ],
   "source": [
    "#x_train = x_train.reshape(x_train.shape[0], 1, x_train.shape[1])\n",
    "#x_test = x_test.reshape(x_test.shape[0], 1, x_test.shape[1])\n",
    "#x_valid = x_valid.reshape(x_valid.shape[0], 1, x_valid.shape[1])\n",
    "\n",
    "x_train = np.array(x_train)#[:,:,None]\n",
    "x_valid = np.array(x_valid)#[:,:,None]\n",
    "x_test = np.array(x_test)#[:,:,None]\n",
    "\n",
    "print('training set',x_train.shape)\n",
    "print('testing set', x_test.shape)\n",
    "print('validation set', x_valid.shape)"
   ]
  },
  {
   "cell_type": "markdown",
   "metadata": {
    "colab_type": "text",
    "id": "Q-1V3H2dCHxU"
   },
   "source": [
    "- Long Short-Term Memory "
   ]
  },
  {
   "cell_type": "code",
   "execution_count": 22,
   "metadata": {
    "colab": {},
    "colab_type": "code",
    "id": "Lc26mjuDCwPz"
   },
   "outputs": [],
   "source": [
    "import keras\n",
    "from keras import Sequential, Input, Model\n",
    "from keras.layers import LSTM, Dense, Dropout, Embedding, Conv1D, MaxPooling1D, SpatialDropout1D\n",
    "import matplotlib.pyplot as plt"
   ]
  },
  {
   "cell_type": "code",
   "execution_count": 32,
   "metadata": {
    "colab": {
     "base_uri": "https://localhost:8080/",
     "height": 294
    },
    "colab_type": "code",
    "id": "wIpzGPtlR4ex",
    "outputId": "a6fc986e-8b44-482c-ad90-81f7f74bdbf3"
   },
   "outputs": [
    {
     "name": "stdout",
     "output_type": "stream",
     "text": [
      "Model: \"sequential_8\"\n",
      "_________________________________________________________________\n",
      "Layer (type)                 Output Shape              Param #   \n",
      "=================================================================\n",
      "embedding_6 (Embedding)      (None, 500, 100)          5000000   \n",
      "_________________________________________________________________\n",
      "spatial_dropout1d_4 (Spatial (None, 500, 100)          0         \n",
      "_________________________________________________________________\n",
      "lstm_6 (LSTM)                (None, 100)               80400     \n",
      "_________________________________________________________________\n",
      "dense_5 (Dense)              (None, 9)                 909       \n",
      "=================================================================\n",
      "Total params: 5,081,309\n",
      "Trainable params: 5,081,309\n",
      "Non-trainable params: 0\n",
      "_________________________________________________________________\n"
     ]
    }
   ],
   "source": [
    "model = Sequential()\n",
    "model.add(Embedding(MAX_NB_WORDS, EMBEDDING_DIM, input_length=x_train.shape[1]))\n",
    "model.add(SpatialDropout1D(0.5))\n",
    "model.add(LSTM(100, dropout=0.2, recurrent_dropout=0.2))\n",
    "model.add(Dense(9, activation='softmax'))\n",
    "model.compile(loss='categorical_crossentropy', optimizer='adam', metrics=['accuracy'])\n",
    "model.summary()\n",
    "\n",
    "#history = model.fit(x_train, y_train, epochs=5, validation_data=(x_valid, y_valid), verbose=1, batch_size=64)"
   ]
  },
  {
   "cell_type": "code",
   "execution_count": 33,
   "metadata": {
    "colab": {
     "base_uri": "https://localhost:8080/",
     "height": 598
    },
    "colab_type": "code",
    "id": "srqzINuCDq6j",
    "outputId": "e3de871a-a16f-4f37-c4dd-33496bc1c762"
   },
   "outputs": [
    {
     "name": "stderr",
     "output_type": "stream",
     "text": [
      "/usr/local/lib/python3.6/dist-packages/tensorflow/python/framework/indexed_slices.py:434: UserWarning: Converting sparse IndexedSlices to a dense Tensor of unknown shape. This may consume a large amount of memory.\n",
      "  \"Converting sparse IndexedSlices to a dense Tensor of unknown shape. \"\n"
     ]
    },
    {
     "name": "stdout",
     "output_type": "stream",
     "text": [
      "Train on 19971 samples, validate on 2220 samples\n",
      "Epoch 1/5\n",
      "19971/19971 [==============================] - 462s 23ms/step - loss: 1.4308 - accuracy: 0.4421 - val_loss: 0.9546 - val_accuracy: 0.6423\n",
      "Epoch 2/5\n",
      "19971/19971 [==============================] - 474s 24ms/step - loss: 0.8214 - accuracy: 0.6938 - val_loss: 0.7232 - val_accuracy: 0.7171\n",
      "Epoch 3/5\n",
      "19971/19971 [==============================] - 467s 23ms/step - loss: 0.5785 - accuracy: 0.7944 - val_loss: 0.6568 - val_accuracy: 0.7545\n",
      "Epoch 4/5\n",
      "19971/19971 [==============================] - 455s 23ms/step - loss: 0.4746 - accuracy: 0.8389 - val_loss: 0.6432 - val_accuracy: 0.7689\n",
      "Epoch 5/5\n",
      "19971/19971 [==============================] - 468s 23ms/step - loss: 0.3571 - accuracy: 0.8792 - val_loss: 0.6591 - val_accuracy: 0.7649\n"
     ]
    },
    {
     "data": {
      "text/plain": [
       "<matplotlib.legend.Legend at 0x7f8639f0a5c0>"
      ]
     },
     "execution_count": 33,
     "metadata": {
      "tags": []
     },
     "output_type": "execute_result"
    },
    {
     "data": {
      "image/png": "[encoded data removed]",
      "text/plain": [
       "<Figure size 864x360 with 2 Axes>"
      ]
     },
     "metadata": {
      "needs_background": "light",
      "tags": []
     },
     "output_type": "display_data"
    }
   ],
   "source": [
    "\n",
    "history = model.fit(x_train, y_train, epochs=5, validation_data=(x_valid, y_valid), verbose=1, batch_size=64)\n",
    "\n",
    "acc = history.history['accuracy']\n",
    "val_acc = history.history['val_accuracy']\n",
    "loss = history.history['loss']\n",
    "val_loss = history.history['val_loss']\n",
    "x = range(1, len(acc) + 1)\n",
    "\n",
    "plt.figure(figsize=(12, 5))\n",
    "plt.subplot(1, 2, 1)\n",
    "plt.plot(x, acc, 'b', label='Training acc')\n",
    "plt.plot(x, val_acc, 'r', label='Validation acc')\n",
    "plt.title('Training and validation accuracy')\n",
    "plt.legend()\n",
    "plt.subplot(1, 2, 2)\n",
    "plt.plot(x, loss, 'b', label='Training loss')\n",
    "plt.plot(x, val_loss, 'r', label='Validation loss')\n",
    "plt.title('Training and validation loss')\n",
    "plt.legend()"
   ]
  },
  {
   "cell_type": "code",
   "execution_count": 34,
   "metadata": {
    "colab": {
     "base_uri": "https://localhost:8080/",
     "height": 620
    },
    "colab_type": "code",
    "id": "-YDWZfyPra1n",
    "outputId": "069397d5-1559-4847-8b9c-4121d728aa52"
   },
   "outputs": [
    {
     "name": "stdout",
     "output_type": "stream",
     "text": [
      "\n"
     ]
    },
    {
     "data": {
      "text/html": [
       "<div>\n",
       "<style scoped>\n",
       "    .dataframe tbody tr th:only-of-type {\n",
       "        vertical-align: middle;\n",
       "    }\n",
       "\n",
       "    .dataframe tbody tr th {\n",
       "        vertical-align: top;\n",
       "    }\n",
       "\n",
       "    .dataframe thead th {\n",
       "        text-align: right;\n",
       "    }\n",
       "</style>\n",
       "<table border=\"1\" class=\"dataframe\">\n",
       "  <thead>\n",
       "    <tr style=\"text-align: right;\">\n",
       "      <th></th>\n",
       "      <th>0</th>\n",
       "      <th>1</th>\n",
       "      <th>2</th>\n",
       "      <th>3</th>\n",
       "      <th>4</th>\n",
       "      <th>5</th>\n",
       "      <th>6</th>\n",
       "      <th>7</th>\n",
       "      <th>8</th>\n",
       "    </tr>\n",
       "  </thead>\n",
       "  <tbody>\n",
       "    <tr>\n",
       "      <th>0</th>\n",
       "      <td>882</td>\n",
       "      <td>21</td>\n",
       "      <td>45</td>\n",
       "      <td>55</td>\n",
       "      <td>30</td>\n",
       "      <td>2</td>\n",
       "      <td>3</td>\n",
       "      <td>16</td>\n",
       "      <td>6</td>\n",
       "    </tr>\n",
       "    <tr>\n",
       "      <th>1</th>\n",
       "      <td>5</td>\n",
       "      <td>1097</td>\n",
       "      <td>44</td>\n",
       "      <td>32</td>\n",
       "      <td>34</td>\n",
       "      <td>4</td>\n",
       "      <td>7</td>\n",
       "      <td>6</td>\n",
       "      <td>6</td>\n",
       "    </tr>\n",
       "    <tr>\n",
       "      <th>2</th>\n",
       "      <td>19</td>\n",
       "      <td>46</td>\n",
       "      <td>279</td>\n",
       "      <td>33</td>\n",
       "      <td>46</td>\n",
       "      <td>1</td>\n",
       "      <td>1</td>\n",
       "      <td>3</td>\n",
       "      <td>2</td>\n",
       "    </tr>\n",
       "    <tr>\n",
       "      <th>3</th>\n",
       "      <td>19</td>\n",
       "      <td>15</td>\n",
       "      <td>27</td>\n",
       "      <td>290</td>\n",
       "      <td>26</td>\n",
       "      <td>10</td>\n",
       "      <td>5</td>\n",
       "      <td>8</td>\n",
       "      <td>8</td>\n",
       "    </tr>\n",
       "    <tr>\n",
       "      <th>4</th>\n",
       "      <td>16</td>\n",
       "      <td>47</td>\n",
       "      <td>61</td>\n",
       "      <td>34</td>\n",
       "      <td>950</td>\n",
       "      <td>20</td>\n",
       "      <td>5</td>\n",
       "      <td>13</td>\n",
       "      <td>7</td>\n",
       "    </tr>\n",
       "    <tr>\n",
       "      <th>5</th>\n",
       "      <td>7</td>\n",
       "      <td>2</td>\n",
       "      <td>8</td>\n",
       "      <td>23</td>\n",
       "      <td>27</td>\n",
       "      <td>374</td>\n",
       "      <td>3</td>\n",
       "      <td>7</td>\n",
       "      <td>2</td>\n",
       "    </tr>\n",
       "    <tr>\n",
       "      <th>6</th>\n",
       "      <td>1</td>\n",
       "      <td>1</td>\n",
       "      <td>0</td>\n",
       "      <td>1</td>\n",
       "      <td>4</td>\n",
       "      <td>0</td>\n",
       "      <td>1190</td>\n",
       "      <td>77</td>\n",
       "      <td>127</td>\n",
       "    </tr>\n",
       "    <tr>\n",
       "      <th>7</th>\n",
       "      <td>1</td>\n",
       "      <td>4</td>\n",
       "      <td>1</td>\n",
       "      <td>4</td>\n",
       "      <td>1</td>\n",
       "      <td>1</td>\n",
       "      <td>121</td>\n",
       "      <td>952</td>\n",
       "      <td>642</td>\n",
       "    </tr>\n",
       "    <tr>\n",
       "      <th>8</th>\n",
       "      <td>4</td>\n",
       "      <td>5</td>\n",
       "      <td>0</td>\n",
       "      <td>1</td>\n",
       "      <td>6</td>\n",
       "      <td>0</td>\n",
       "      <td>180</td>\n",
       "      <td>274</td>\n",
       "      <td>1174</td>\n",
       "    </tr>\n",
       "  </tbody>\n",
       "</table>\n",
       "</div>"
      ],
      "text/plain": [
       "     0     1    2    3    4    5     6    7     8\n",
       "0  882    21   45   55   30    2     3   16     6\n",
       "1    5  1097   44   32   34    4     7    6     6\n",
       "2   19    46  279   33   46    1     1    3     2\n",
       "3   19    15   27  290   26   10     5    8     8\n",
       "4   16    47   61   34  950   20     5   13     7\n",
       "5    7     2    8   23   27  374     3    7     2\n",
       "6    1     1    0    1    4    0  1190   77   127\n",
       "7    1     4    1    4    1    1   121  952   642\n",
       "8    4     5    0    1    6    0   180  274  1174"
      ]
     },
     "metadata": {
      "tags": []
     },
     "output_type": "display_data"
    },
    {
     "name": "stdout",
     "output_type": "stream",
     "text": [
      "              precision    recall  f1-score   support\n",
      "\n",
      "           0       0.92      0.83      0.88      1060\n",
      "           1       0.89      0.89      0.89      1235\n",
      "           2       0.60      0.65      0.62       430\n",
      "           3       0.61      0.71      0.66       408\n",
      "           4       0.85      0.82      0.83      1153\n",
      "           5       0.91      0.83      0.86       453\n",
      "           6       0.79      0.85      0.82      1401\n",
      "           7       0.70      0.55      0.62      1727\n",
      "           8       0.59      0.71      0.65      1644\n",
      "\n",
      "    accuracy                           0.76      9511\n",
      "   macro avg       0.76      0.76      0.76      9511\n",
      "weighted avg       0.76      0.76      0.76      9511\n",
      "\n"
     ]
    }
   ],
   "source": [
    "from sklearn.metrics import classification_report, confusion_matrix\n",
    "import pandas as pd\n",
    "\n",
    "y_pred = model.predict(x_test)\n",
    "\n",
    "\n",
    "y_pred_cp = np.argmax( y_pred, axis=1)\n",
    "y_test_cp = np.argmax( y_test, axis=1)\n",
    "print()\n",
    "dt = pd.DataFrame(confusion_matrix(y_test_cp, y_pred_cp))\n",
    "display(dt)\n",
    "print(classification_report(y_test_cp, y_pred_cp, zero_division=0))"
   ]
  }
 ],
 "metadata": {
  "accelerator": "GPU",
  "colab": {
   "collapsed_sections": [],
   "name": "RNN(LSTM).ipynb",
   "provenance": []
  },
  "kernelspec": {
   "display_name": "Python 3",
   "language": "python",
   "name": "python3"
  },
  "language_info": {
   "codemirror_mode": {
    "name": "ipython",
    "version": 3
   },
   "file_extension": ".py",
   "mimetype": "text/x-python",
   "name": "python",
   "nbconvert_exporter": "python",
   "pygments_lexer": "ipython3",
   "version": "3.6.9"
  }
 },
 "nbformat": 4,
 "nbformat_minor": 4
}
