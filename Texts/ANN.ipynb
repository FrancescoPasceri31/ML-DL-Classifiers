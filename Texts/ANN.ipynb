{
  "nbformat": 4,
  "nbformat_minor": 0,
  "metadata": {
    "colab": {
      "name": "ANN.ipynb",
      "provenance": [],
      "collapsed_sections": []
    },
    "kernelspec": {
      "name": "python3",
      "display_name": "Python 3"
    },
    "accelerator": "GPU"
  },
  "cells": [
    {
      "cell_type": "code",
      "metadata": {
        "id": "I8cc1kU2OTl2",
        "colab_type": "code",
        "colab": {
          "base_uri": "https://localhost:8080/",
          "height": 34
        },
        "outputId": "79ca474b-41e0-4657-90c0-b2afb9b7973c"
      },
      "source": [
        "import numpy as np\n",
        "import pickle\n",
        "\n",
        "path = ''\n",
        "\n",
        "with open(path+\"txt_data\", \"rb\") as fp:\n",
        "    data = pickle.load(fp)\n",
        "with open(path+\"txt_labels\", \"rb\") as fp:   \n",
        "    labels = pickle.load(fp)\n",
        "\n",
        "labels = np.array(labels)\n",
        "\n",
        "print(len(data), len(labels))"
      ],
      "execution_count": 31,
      "outputs": [
        {
          "output_type": "stream",
          "text": [
            "31702 31702\n"
          ],
          "name": "stdout"
        }
      ]
    },
    {
      "cell_type": "code",
      "metadata": {
        "id": "-_bKGuR5OayA",
        "colab_type": "code",
        "colab": {
          "base_uri": "https://localhost:8080/",
          "height": 34
        },
        "outputId": "a8ab755f-2491-4174-f9b4-5fbc9fdcbb6c"
      },
      "source": [
        "from sklearn.model_selection import train_test_split \n",
        "\n",
        "x_train, x_test, y_train, y_test = train_test_split(data,labels, test_size = 0.30, shuffle=True, random_state = 42)\n",
        "x_train, x_valid, y_train, y_valid = train_test_split(x_train, y_train, test_size=0.10, shuffle=True, random_state = 33)\n",
        "\n",
        "print('split done.')"
      ],
      "execution_count": 32,
      "outputs": [
        {
          "output_type": "stream",
          "text": [
            "split done.\n"
          ],
          "name": "stdout"
        }
      ]
    },
    {
      "cell_type": "code",
      "metadata": {
        "id": "cGYM28KuOepz",
        "colab_type": "code",
        "colab": {
          "base_uri": "https://localhost:8080/",
          "height": 34
        },
        "outputId": "b272ce56-ced0-4e8c-8a06-56fd82b3022a"
      },
      "source": [
        "from sklearn.feature_extraction.text import TfidfVectorizer\n",
        "\n",
        "vectorizer = TfidfVectorizer(max_features=1000, use_idf=True, stop_words='english')\n",
        "vectorizer.fit(data)\n",
        "x_train = vectorizer.transform(x_train).toarray()\n",
        "x_test = vectorizer.transform(x_test).toarray()\n",
        "x_valid = vectorizer.transform(x_valid).toarray()\n",
        "print('> tfidVectorization done.')"
      ],
      "execution_count": 33,
      "outputs": [
        {
          "output_type": "stream",
          "text": [
            "> tfidVectorization done.\n"
          ],
          "name": "stdout"
        }
      ]
    },
    {
      "cell_type": "code",
      "metadata": {
        "id": "1KCKwEBvOgOm",
        "colab_type": "code",
        "colab": {
          "base_uri": "https://localhost:8080/",
          "height": 70
        },
        "outputId": "a460284a-ef6b-42f1-b4b6-aece01199d90"
      },
      "source": [
        "print('training set',x_train.shape)\n",
        "print('testing set', x_test.shape)\n",
        "print('validation set', x_valid.shape)"
      ],
      "execution_count": 34,
      "outputs": [
        {
          "output_type": "stream",
          "text": [
            "training set (19971, 1000)\n",
            "testing set (9511, 1000)\n",
            "validation set (2220, 1000)\n"
          ],
          "name": "stdout"
        }
      ]
    },
    {
      "cell_type": "markdown",
      "metadata": {
        "id": "JhoTP-ImOhMh",
        "colab_type": "text"
      },
      "source": [
        "- Simple Feed Forward Fully Conntected Neural Network"
      ]
    },
    {
      "cell_type": "code",
      "metadata": {
        "id": "0vMt_sXbOmD2",
        "colab_type": "code",
        "colab": {}
      },
      "source": [
        "import keras\n",
        "from keras import Sequential, Input, Model\n",
        "from keras.layers import Dense, Dropout, Embedding, Conv1D, MaxPooling1D, Flatten, Dropout\n",
        "import matplotlib.pyplot as plt"
      ],
      "execution_count": 35,
      "outputs": []
    },
    {
      "cell_type": "code",
      "metadata": {
        "id": "iu8QSzKxO2At",
        "colab_type": "code",
        "colab": {
          "base_uri": "https://localhost:8080/",
          "height": 194
        },
        "outputId": "681c5046-e577-4eae-83e3-7f0eb7bd8b5c"
      },
      "source": [
        "from sklearn.model_selection import cross_val_score\n",
        "import numpy as np\n",
        "\n",
        "x_train = np.concatenate((x_train,x_valid),axis=0)\n",
        "y_train = np.concatenate((y_train,y_valid),axis=0)\n",
        "\n",
        "scores=[]\n",
        "for i in range(0,10):\n",
        "  model = Sequential()\n",
        "  node = 600 # number of nodes\n",
        "  nLayers = 3 # number of  hidden layer\n",
        "  model.add(Dense(node,input_dim=x_train.shape[1], activation='relu'))\n",
        "  #model.add(Dropout(0.5))\n",
        "  for i in range(0,nLayers):\n",
        "    #, kernel_regularizer=keras.regularizers.l2(0.01)\n",
        "    model.add(Dense(node,activation='relu' ))\n",
        "    model.add(Dropout(0.5))\n",
        "  model.add(Dense(9, activation='softmax'))\n",
        "\n",
        "  model.compile(optimizer=keras.optimizers.Adam(0.00001), loss='sparse_categorical_crossentropy',\n",
        "                metrics=['accuracy'])\n",
        "\n",
        "  #x_train, x_valid, y_train, y_valid = train_test_split(x_train, y_train, test_size=0.1)\n",
        "\n",
        "  history = model.fit(x_train, y_train, epochs=20, validation_split=0.1, verbose=0, use_multiprocessing=True)\n",
        "\n",
        "  val_acc = history.history['val_accuracy']\n",
        "  score = np.mean(val_acc[-4:])\n",
        "  print(score)\n",
        "  scores.append(score)\n"
      ],
      "execution_count": 39,
      "outputs": [
        {
          "output_type": "stream",
          "text": [
            "0.6539414376020432\n",
            "0.6568693667650223\n",
            "0.667117103934288\n",
            "0.6573198139667511\n",
            "0.654391884803772\n",
            "0.6531531512737274\n",
            "0.6565315276384354\n",
            "0.6628378182649612\n",
            "0.6624999940395355\n",
            "0.6652027070522308\n"
          ],
          "name": "stdout"
        }
      ]
    },
    {
      "cell_type": "code",
      "metadata": {
        "id": "pdCGyz8AQcdH",
        "colab_type": "code",
        "colab": {
          "base_uri": "https://localhost:8080/",
          "height": 1000
        },
        "outputId": "c46d52ad-6e75-448d-c238-27bd1e95b9ee"
      },
      "source": [
        "history = model.fit(x_train, y_train, epochs=30, validation_data=(x_valid, y_valid), verbose=2, use_multiprocessing=True)\n",
        "\n",
        "acc = history.history['accuracy']\n",
        "val_acc = history.history['val_accuracy']\n",
        "loss = history.history['loss']\n",
        "val_loss = history.history['val_loss']\n",
        "x = range(1, len(acc) + 1)\n",
        "\n",
        "plt.figure(figsize=(12, 5))\n",
        "plt.subplot(1, 2, 1)\n",
        "plt.plot(x, acc, 'b', label='Training acc')\n",
        "plt.plot(x, val_acc, 'r', label='Validation acc')\n",
        "plt.title('Training and validation accuracy')\n",
        "plt.legend()\n",
        "plt.subplot(1, 2, 2)\n",
        "plt.plot(x, loss, 'b', label='Training loss')\n",
        "plt.plot(x, val_loss, 'r', label='Validation loss')\n",
        "plt.title('Training and validation loss')\n",
        "plt.legend()"
      ],
      "execution_count": null,
      "outputs": [
        {
          "output_type": "stream",
          "text": [
            "Train on 19971 samples, validate on 2220 samples\n",
            "Epoch 1/30\n",
            " - 3s - loss: 2.1601 - accuracy: 0.1709 - val_loss: 2.0996 - val_accuracy: 0.1959\n",
            "Epoch 2/30\n",
            " - 3s - loss: 2.0455 - accuracy: 0.1832 - val_loss: 1.9681 - val_accuracy: 0.2009\n",
            "Epoch 3/30\n",
            " - 3s - loss: 1.9389 - accuracy: 0.1892 - val_loss: 1.8149 - val_accuracy: 0.2590\n",
            "Epoch 4/30\n",
            " - 3s - loss: 1.7515 - accuracy: 0.2829 - val_loss: 1.5709 - val_accuracy: 0.3941\n",
            "Epoch 5/30\n",
            " - 3s - loss: 1.5618 - accuracy: 0.3285 - val_loss: 1.4312 - val_accuracy: 0.4324\n",
            "Epoch 6/30\n",
            " - 3s - loss: 1.4635 - accuracy: 0.3664 - val_loss: 1.3577 - val_accuracy: 0.4734\n",
            "Epoch 7/30\n",
            " - 3s - loss: 1.3950 - accuracy: 0.4114 - val_loss: 1.2784 - val_accuracy: 0.5387\n",
            "Epoch 8/30\n",
            " - 3s - loss: 1.3083 - accuracy: 0.4680 - val_loss: 1.1805 - val_accuracy: 0.5820\n",
            "Epoch 9/30\n",
            " - 3s - loss: 1.2148 - accuracy: 0.5114 - val_loss: 1.0892 - val_accuracy: 0.6000\n",
            "Epoch 10/30\n",
            " - 3s - loss: 1.1338 - accuracy: 0.5418 - val_loss: 1.0210 - val_accuracy: 0.6099\n",
            "Epoch 11/30\n",
            " - 3s - loss: 1.0655 - accuracy: 0.5732 - val_loss: 0.9722 - val_accuracy: 0.6126\n",
            "Epoch 12/30\n",
            " - 3s - loss: 1.0168 - accuracy: 0.5848 - val_loss: 0.9365 - val_accuracy: 0.6216\n",
            "Epoch 13/30\n",
            " - 3s - loss: 0.9775 - accuracy: 0.5992 - val_loss: 0.9099 - val_accuracy: 0.6297\n",
            "Epoch 14/30\n",
            " - 3s - loss: 0.9405 - accuracy: 0.6122 - val_loss: 0.8875 - val_accuracy: 0.6414\n",
            "Epoch 15/30\n",
            " - 3s - loss: 0.9058 - accuracy: 0.6240 - val_loss: 0.8689 - val_accuracy: 0.6473\n",
            "Epoch 16/30\n",
            " - 3s - loss: 0.8816 - accuracy: 0.6330 - val_loss: 0.8547 - val_accuracy: 0.6554\n",
            "Epoch 17/30\n",
            " - 3s - loss: 0.8616 - accuracy: 0.6510 - val_loss: 0.8419 - val_accuracy: 0.6581\n",
            "Epoch 18/30\n",
            " - 3s - loss: 0.8375 - accuracy: 0.6515 - val_loss: 0.8306 - val_accuracy: 0.6698\n",
            "Epoch 19/30\n",
            " - 3s - loss: 0.8194 - accuracy: 0.6660 - val_loss: 0.8210 - val_accuracy: 0.6775\n",
            "Epoch 20/30\n",
            " - 3s - loss: 0.8048 - accuracy: 0.6667 - val_loss: 0.8116 - val_accuracy: 0.6797\n",
            "Epoch 21/30\n",
            " - 3s - loss: 0.7865 - accuracy: 0.6752 - val_loss: 0.8055 - val_accuracy: 0.6842\n",
            "Epoch 22/30\n",
            " - 3s - loss: 0.7761 - accuracy: 0.6810 - val_loss: 0.7988 - val_accuracy: 0.6824\n",
            "Epoch 23/30\n",
            " - 3s - loss: 0.7603 - accuracy: 0.6917 - val_loss: 0.7908 - val_accuracy: 0.6883\n",
            "Epoch 24/30\n",
            " - 3s - loss: 0.7461 - accuracy: 0.6965 - val_loss: 0.7846 - val_accuracy: 0.6905\n",
            "Epoch 25/30\n",
            " - 3s - loss: 0.7318 - accuracy: 0.7049 - val_loss: 0.7791 - val_accuracy: 0.6914\n",
            "Epoch 26/30\n",
            " - 3s - loss: 0.7191 - accuracy: 0.7110 - val_loss: 0.7724 - val_accuracy: 0.6941\n",
            "Epoch 27/30\n",
            " - 3s - loss: 0.7089 - accuracy: 0.7159 - val_loss: 0.7689 - val_accuracy: 0.6977\n",
            "Epoch 28/30\n",
            " - 3s - loss: 0.6975 - accuracy: 0.7218 - val_loss: 0.7639 - val_accuracy: 0.6995\n",
            "Epoch 29/30\n",
            " - 3s - loss: 0.6781 - accuracy: 0.7289 - val_loss: 0.7608 - val_accuracy: 0.7036\n",
            "Epoch 30/30\n",
            " - 3s - loss: 0.6697 - accuracy: 0.7344 - val_loss: 0.7564 - val_accuracy: 0.7063\n"
          ],
          "name": "stdout"
        },
        {
          "output_type": "execute_result",
          "data": {
            "text/plain": [
              "<matplotlib.legend.Legend at 0x7f1dd14cd470>"
            ]
          },
          "metadata": {
            "tags": []
          },
          "execution_count": 69
        },
        {
          "output_type": "display_data",
          "data": {
            "image/png": "[encoded data removed]",
            "text/plain": [
              "<Figure size 864x360 with 2 Axes>"
            ]
          },
          "metadata": {
            "tags": [],
            "needs_background": "light"
          }
        }
      ]
    },
    {
      "cell_type": "code",
      "metadata": {
        "id": "Emk7uLsEZeXc",
        "colab_type": "code",
        "colab": {
          "base_uri": "https://localhost:8080/",
          "height": 620
        },
        "outputId": "11a18083-7bfc-4aa3-deb7-14fde1467825"
      },
      "source": [
        "from sklearn.metrics import classification_report, confusion_matrix\n",
        "import pandas as pd\n",
        "\n",
        "y_pred = model.predict(x_test)\n",
        "\n",
        "\n",
        "y_pred_cp = np.argmax( y_pred, axis=1)\n",
        "print()\n",
        "dt = pd.DataFrame(confusion_matrix(y_test, y_pred_cp))\n",
        "display(dt)\n",
        "print(classification_report(y_test, y_pred_cp, zero_division=0))"
      ],
      "execution_count": null,
      "outputs": [
        {
          "output_type": "stream",
          "text": [
            "\n"
          ],
          "name": "stdout"
        },
        {
          "output_type": "display_data",
          "data": {
            "text/html": [
              "<div>\n",
              "<style scoped>\n",
              "    .dataframe tbody tr th:only-of-type {\n",
              "        vertical-align: middle;\n",
              "    }\n",
              "\n",
              "    .dataframe tbody tr th {\n",
              "        vertical-align: top;\n",
              "    }\n",
              "\n",
              "    .dataframe thead th {\n",
              "        text-align: right;\n",
              "    }\n",
              "</style>\n",
              "<table border=\"1\" class=\"dataframe\">\n",
              "  <thead>\n",
              "    <tr style=\"text-align: right;\">\n",
              "      <th></th>\n",
              "      <th>0</th>\n",
              "      <th>1</th>\n",
              "      <th>2</th>\n",
              "      <th>3</th>\n",
              "      <th>4</th>\n",
              "      <th>5</th>\n",
              "      <th>6</th>\n",
              "      <th>7</th>\n",
              "      <th>8</th>\n",
              "    </tr>\n",
              "  </thead>\n",
              "  <tbody>\n",
              "    <tr>\n",
              "      <th>0</th>\n",
              "      <td>884</td>\n",
              "      <td>21</td>\n",
              "      <td>47</td>\n",
              "      <td>19</td>\n",
              "      <td>46</td>\n",
              "      <td>6</td>\n",
              "      <td>11</td>\n",
              "      <td>19</td>\n",
              "      <td>7</td>\n",
              "    </tr>\n",
              "    <tr>\n",
              "      <th>1</th>\n",
              "      <td>17</td>\n",
              "      <td>1068</td>\n",
              "      <td>47</td>\n",
              "      <td>16</td>\n",
              "      <td>58</td>\n",
              "      <td>3</td>\n",
              "      <td>11</td>\n",
              "      <td>14</td>\n",
              "      <td>1</td>\n",
              "    </tr>\n",
              "    <tr>\n",
              "      <th>2</th>\n",
              "      <td>27</td>\n",
              "      <td>52</td>\n",
              "      <td>268</td>\n",
              "      <td>7</td>\n",
              "      <td>68</td>\n",
              "      <td>3</td>\n",
              "      <td>0</td>\n",
              "      <td>5</td>\n",
              "      <td>0</td>\n",
              "    </tr>\n",
              "    <tr>\n",
              "      <th>3</th>\n",
              "      <td>55</td>\n",
              "      <td>39</td>\n",
              "      <td>32</td>\n",
              "      <td>163</td>\n",
              "      <td>89</td>\n",
              "      <td>6</td>\n",
              "      <td>5</td>\n",
              "      <td>13</td>\n",
              "      <td>6</td>\n",
              "    </tr>\n",
              "    <tr>\n",
              "      <th>4</th>\n",
              "      <td>23</td>\n",
              "      <td>49</td>\n",
              "      <td>43</td>\n",
              "      <td>23</td>\n",
              "      <td>985</td>\n",
              "      <td>11</td>\n",
              "      <td>2</td>\n",
              "      <td>16</td>\n",
              "      <td>1</td>\n",
              "    </tr>\n",
              "    <tr>\n",
              "      <th>5</th>\n",
              "      <td>19</td>\n",
              "      <td>11</td>\n",
              "      <td>30</td>\n",
              "      <td>6</td>\n",
              "      <td>44</td>\n",
              "      <td>332</td>\n",
              "      <td>1</td>\n",
              "      <td>9</td>\n",
              "      <td>1</td>\n",
              "    </tr>\n",
              "    <tr>\n",
              "      <th>6</th>\n",
              "      <td>0</td>\n",
              "      <td>1</td>\n",
              "      <td>0</td>\n",
              "      <td>3</td>\n",
              "      <td>2</td>\n",
              "      <td>4</td>\n",
              "      <td>1080</td>\n",
              "      <td>145</td>\n",
              "      <td>166</td>\n",
              "    </tr>\n",
              "    <tr>\n",
              "      <th>7</th>\n",
              "      <td>9</td>\n",
              "      <td>12</td>\n",
              "      <td>1</td>\n",
              "      <td>4</td>\n",
              "      <td>10</td>\n",
              "      <td>3</td>\n",
              "      <td>214</td>\n",
              "      <td>976</td>\n",
              "      <td>498</td>\n",
              "    </tr>\n",
              "    <tr>\n",
              "      <th>8</th>\n",
              "      <td>6</td>\n",
              "      <td>5</td>\n",
              "      <td>0</td>\n",
              "      <td>0</td>\n",
              "      <td>12</td>\n",
              "      <td>2</td>\n",
              "      <td>226</td>\n",
              "      <td>472</td>\n",
              "      <td>921</td>\n",
              "    </tr>\n",
              "  </tbody>\n",
              "</table>\n",
              "</div>"
            ],
            "text/plain": [
              "     0     1    2    3    4    5     6    7    8\n",
              "0  884    21   47   19   46    6    11   19    7\n",
              "1   17  1068   47   16   58    3    11   14    1\n",
              "2   27    52  268    7   68    3     0    5    0\n",
              "3   55    39   32  163   89    6     5   13    6\n",
              "4   23    49   43   23  985   11     2   16    1\n",
              "5   19    11   30    6   44  332     1    9    1\n",
              "6    0     1    0    3    2    4  1080  145  166\n",
              "7    9    12    1    4   10    3   214  976  498\n",
              "8    6     5    0    0   12    2   226  472  921"
            ]
          },
          "metadata": {
            "tags": []
          }
        },
        {
          "output_type": "stream",
          "text": [
            "              precision    recall  f1-score   support\n",
            "\n",
            "           0       0.85      0.83      0.84      1060\n",
            "           1       0.85      0.86      0.86      1235\n",
            "           2       0.57      0.62      0.60       430\n",
            "           3       0.68      0.40      0.50       408\n",
            "           4       0.75      0.85      0.80      1153\n",
            "           5       0.90      0.73      0.81       453\n",
            "           6       0.70      0.77      0.73      1401\n",
            "           7       0.58      0.57      0.57      1727\n",
            "           8       0.58      0.56      0.57      1644\n",
            "\n",
            "    accuracy                           0.70      9511\n",
            "   macro avg       0.72      0.69      0.70      9511\n",
            "weighted avg       0.70      0.70      0.70      9511\n",
            "\n"
          ],
          "name": "stdout"
        }
      ]
    },
    {
      "cell_type": "code",
      "metadata": {
        "id": "VnG2hx6c0CYS",
        "colab_type": "code",
        "colab": {}
      },
      "source": [
        "import pickle\n",
        "\n",
        "with open('CLF_ANN_text','wb') as f:\n",
        "  pickle.dump(model,f)"
      ],
      "execution_count": null,
      "outputs": []
    },
    {
      "cell_type": "code",
      "metadata": {
        "id": "Weqzwufhnsq5",
        "colab_type": "code",
        "colab": {
          "base_uri": "https://localhost:8080/",
          "height": 320
        },
        "outputId": "9578b5d8-636f-465e-ad99-0879960e8112"
      },
      "source": [
        "import matplotlib.pyplot as plt\n",
        "\n",
        "plt.figure(figsize=(10,5))\n",
        "plt.plot(scores)\n",
        "plt.show()"
      ],
      "execution_count": 40,
      "outputs": [
        {
          "output_type": "display_data",
          "data": {
            "image/png": "[encoded data removed]",
            "text/plain": [
              "<Figure size 720x360 with 1 Axes>"
            ]
          },
          "metadata": {
            "tags": [],
            "needs_background": "light"
          }
        }
      ]
    },
    {
      "cell_type": "code",
      "metadata": {
        "id": "Eni2AzNesoNH",
        "colab_type": "code",
        "colab": {}
      },
      "source": [
        "with open('ANN_score','wb') as f:\n",
        "  pickle.dump(scores,f)"
      ],
      "execution_count": 41,
      "outputs": []
    }
  ]
}